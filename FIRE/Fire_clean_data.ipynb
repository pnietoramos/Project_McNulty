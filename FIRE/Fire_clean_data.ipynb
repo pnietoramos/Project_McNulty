{
 "cells": [
  {
   "cell_type": "code",
   "execution_count": 2,
   "metadata": {
    "ExecuteTime": {
     "end_time": "2018-08-08T00:48:20.609544Z",
     "start_time": "2018-08-08T00:48:20.025809Z"
    }
   },
   "outputs": [
    {
     "data": {
      "text/html": [
       "<style>.container { width:95% !important; }</style>"
      ],
      "text/plain": [
       "<IPython.core.display.HTML object>"
      ]
     },
     "metadata": {},
     "output_type": "display_data"
    }
   ],
   "source": [
    "import pandas as pd\n",
    "import numpy as np\n",
    "import requests\n",
    "import matplotlib.pyplot as plt\n",
    "import seaborn as sns\n",
    "from collections import Counter\n",
    "from sklearn.feature_selection import chi2\n",
    "from sklearn.preprocessing import StandardScaler\n",
    "\n",
    "\n",
    "import warnings\n",
    "warnings.filterwarnings(\"ignore\", category=DeprecationWarning)\n",
    "\n",
    "%matplotlib inline\n",
    "\n",
    "from IPython.core.display import display, HTML\n",
    "display(HTML(\"<style>.container { width:95% !important; }</style>\"))\n",
    "plt.style.use(\"seaborn\")"
   ]
  },
  {
   "cell_type": "code",
   "execution_count": 3,
   "metadata": {
    "ExecuteTime": {
     "end_time": "2018-08-08T00:48:20.975473Z",
     "start_time": "2018-08-08T00:48:20.618518Z"
    }
   },
   "outputs": [],
   "source": [
    "#Downloading info\n",
    "url = 'https://archive.ics.uci.edu/ml/machine-learning-databases/covtype/covtype.info'\n",
    "url_file = requests.get(url)\n",
    "with open(\"covtype.info\",\"wb\") as file:\n",
    "    file.write(url_file.content)  "
   ]
  },
  {
   "cell_type": "markdown",
   "metadata": {},
   "source": [
    "### Loading Data set"
   ]
  },
  {
   "cell_type": "code",
   "execution_count": 4,
   "metadata": {
    "ExecuteTime": {
     "end_time": "2018-08-08T00:48:22.940739Z",
     "start_time": "2018-08-08T00:48:20.999990Z"
    },
    "scrolled": false
   },
   "outputs": [
    {
     "data": {
      "text/html": [
       "<div>\n",
       "<style scoped>\n",
       "    .dataframe tbody tr th:only-of-type {\n",
       "        vertical-align: middle;\n",
       "    }\n",
       "\n",
       "    .dataframe tbody tr th {\n",
       "        vertical-align: top;\n",
       "    }\n",
       "\n",
       "    .dataframe thead th {\n",
       "        text-align: right;\n",
       "    }\n",
       "</style>\n",
       "<table border=\"1\" class=\"dataframe\">\n",
       "  <thead>\n",
       "    <tr style=\"text-align: right;\">\n",
       "      <th></th>\n",
       "      <th>Elevation</th>\n",
       "      <th>Aspect</th>\n",
       "      <th>Slope</th>\n",
       "      <th>Horizontal_Distance_To_Hydrology</th>\n",
       "      <th>Vertical_Distance_To_Hydrology</th>\n",
       "      <th>Horizontal_Distance_To_Roadways</th>\n",
       "      <th>Hillshade_9am</th>\n",
       "      <th>Hillshade_Noon</th>\n",
       "      <th>Hillshade_3pm</th>\n",
       "      <th>Horizontal_Distance_To_Fire_Points</th>\n",
       "      <th>...</th>\n",
       "      <th>Soil_Type32</th>\n",
       "      <th>Soil_Type33</th>\n",
       "      <th>Soil_Type34</th>\n",
       "      <th>Soil_Type35</th>\n",
       "      <th>Soil_Type36</th>\n",
       "      <th>Soil_Type37</th>\n",
       "      <th>Soil_Type38</th>\n",
       "      <th>Soil_Type39</th>\n",
       "      <th>Soil_Type40</th>\n",
       "      <th>Cover_Type</th>\n",
       "    </tr>\n",
       "  </thead>\n",
       "  <tbody>\n",
       "    <tr>\n",
       "      <th>0</th>\n",
       "      <td>2596</td>\n",
       "      <td>51</td>\n",
       "      <td>3</td>\n",
       "      <td>258</td>\n",
       "      <td>0</td>\n",
       "      <td>510</td>\n",
       "      <td>221</td>\n",
       "      <td>232</td>\n",
       "      <td>148</td>\n",
       "      <td>6279</td>\n",
       "      <td>...</td>\n",
       "      <td>0</td>\n",
       "      <td>0</td>\n",
       "      <td>0</td>\n",
       "      <td>0</td>\n",
       "      <td>0</td>\n",
       "      <td>0</td>\n",
       "      <td>0</td>\n",
       "      <td>0</td>\n",
       "      <td>0</td>\n",
       "      <td>5</td>\n",
       "    </tr>\n",
       "  </tbody>\n",
       "</table>\n",
       "<p>1 rows × 55 columns</p>\n",
       "</div>"
      ],
      "text/plain": [
       "   Elevation  Aspect  Slope  Horizontal_Distance_To_Hydrology  \\\n",
       "0       2596      51      3                               258   \n",
       "\n",
       "   Vertical_Distance_To_Hydrology  Horizontal_Distance_To_Roadways  \\\n",
       "0                               0                              510   \n",
       "\n",
       "   Hillshade_9am  Hillshade_Noon  Hillshade_3pm  \\\n",
       "0            221             232            148   \n",
       "\n",
       "   Horizontal_Distance_To_Fire_Points     ...      Soil_Type32  Soil_Type33  \\\n",
       "0                                6279     ...                0            0   \n",
       "\n",
       "   Soil_Type34  Soil_Type35  Soil_Type36  Soil_Type37  Soil_Type38  \\\n",
       "0            0            0            0            0            0   \n",
       "\n",
       "   Soil_Type39  Soil_Type40  Cover_Type  \n",
       "0            0            0           5  \n",
       "\n",
       "[1 rows x 55 columns]"
      ]
     },
     "execution_count": 4,
     "metadata": {},
     "output_type": "execute_result"
    }
   ],
   "source": [
    "#Loading data set\n",
    "df_trees = pd.read_csv(\"covtype.csv\")\n",
    "df_trees.head(1)"
   ]
  },
  {
   "cell_type": "code",
   "execution_count": 5,
   "metadata": {
    "ExecuteTime": {
     "end_time": "2018-08-08T00:48:23.566218Z",
     "start_time": "2018-08-08T00:48:23.083314Z"
    }
   },
   "outputs": [
    {
     "name": "stdout",
     "output_type": "stream",
     "text": [
      "[1]\n",
      "581012\n"
     ]
    }
   ],
   "source": [
    "# The columns Soil_Typex are redundant, aren't they?\n",
    "soils = []\n",
    "for i in range(1,41):\n",
    "    soils.append(\"Soil_Type\"+str(i))\n",
    "\n",
    "# Checking that there is only one wilderness area per observation\n",
    "print(df_trees[soils].sum(axis = 1).unique()) \n",
    "print(df_trees[soils].sum(axis = 0).sum())"
   ]
  },
  {
   "cell_type": "markdown",
   "metadata": {},
   "source": [
    "### Making Soil_Type to store the information in Soil_typex"
   ]
  },
  {
   "cell_type": "code",
   "execution_count": 6,
   "metadata": {
    "ExecuteTime": {
     "end_time": "2018-08-08T00:48:29.415166Z",
     "start_time": "2018-08-08T00:48:23.690599Z"
    }
   },
   "outputs": [],
   "source": [
    "for i in range(1,41):\n",
    "    df_trees[\"Soil_Type\"+str(i)] = df_trees[\"Soil_Type\"+str(i)].apply(lambda x: int(i) if x==1 else x)"
   ]
  },
  {
   "cell_type": "code",
   "execution_count": 7,
   "metadata": {
    "ExecuteTime": {
     "end_time": "2018-08-08T00:48:30.011230Z",
     "start_time": "2018-08-08T00:48:29.542326Z"
    }
   },
   "outputs": [],
   "source": [
    "df_trees[\"Soil_Type\"] = df_trees[soils].sum(axis = 1)\n",
    "df_trees.drop(soils, axis=1, inplace =True)"
   ]
  },
  {
   "cell_type": "code",
   "execution_count": 8,
   "metadata": {
    "ExecuteTime": {
     "end_time": "2018-08-08T00:48:30.050040Z",
     "start_time": "2018-08-08T00:48:30.044111Z"
    }
   },
   "outputs": [
    {
     "data": {
      "text/plain": [
       "(40,)"
      ]
     },
     "execution_count": 8,
     "metadata": {},
     "output_type": "execute_result"
    }
   ],
   "source": [
    "df_trees[\"Soil_Type\"].unique().shape"
   ]
  },
  {
   "cell_type": "markdown",
   "metadata": {},
   "source": [
    "### Wilderness_Area is irrelevant for the generalization. Drop them."
   ]
  },
  {
   "cell_type": "code",
   "execution_count": 9,
   "metadata": {
    "ExecuteTime": {
     "end_time": "2018-08-08T00:48:30.115915Z",
     "start_time": "2018-08-08T00:48:30.089456Z"
    }
   },
   "outputs": [],
   "source": [
    "wilderness = []\n",
    "for i in range(1,5):\n",
    "    wilderness.append(\"Wilderness_Area\"+str(i))"
   ]
  },
  {
   "cell_type": "code",
   "execution_count": 10,
   "metadata": {
    "ExecuteTime": {
     "end_time": "2018-08-08T00:48:30.234502Z",
     "start_time": "2018-08-08T00:48:30.148507Z"
    }
   },
   "outputs": [],
   "source": [
    "df_trees.drop(wilderness, axis=1, inplace =True)"
   ]
  },
  {
   "cell_type": "code",
   "execution_count": 11,
   "metadata": {
    "ExecuteTime": {
     "end_time": "2018-08-08T00:48:30.408882Z",
     "start_time": "2018-08-08T00:48:30.267298Z"
    }
   },
   "outputs": [
    {
     "name": "stdout",
     "output_type": "stream",
     "text": [
      "<class 'pandas.core.frame.DataFrame'>\n",
      "RangeIndex: 581012 entries, 0 to 581011\n",
      "Data columns (total 12 columns):\n",
      "Elevation                             581012 non-null int64\n",
      "Aspect                                581012 non-null int64\n",
      "Slope                                 581012 non-null int64\n",
      "Horizontal_Distance_To_Hydrology      581012 non-null int64\n",
      "Vertical_Distance_To_Hydrology        581012 non-null int64\n",
      "Horizontal_Distance_To_Roadways       581012 non-null int64\n",
      "Hillshade_9am                         581012 non-null int64\n",
      "Hillshade_Noon                        581012 non-null int64\n",
      "Hillshade_3pm                         581012 non-null int64\n",
      "Horizontal_Distance_To_Fire_Points    581012 non-null int64\n",
      "Cover_Type                            581012 non-null int64\n",
      "Soil_Type                             581012 non-null int64\n",
      "dtypes: int64(12)\n",
      "memory usage: 53.2 MB\n"
     ]
    }
   ],
   "source": [
    "df_trees.info()"
   ]
  },
  {
   "cell_type": "code",
   "execution_count": 12,
   "metadata": {
    "ExecuteTime": {
     "end_time": "2018-08-08T00:48:30.550183Z",
     "start_time": "2018-08-08T00:48:30.445506Z"
    },
    "scrolled": true
   },
   "outputs": [
    {
     "data": {
      "text/plain": [
       "Elevation                             False\n",
       "Aspect                                False\n",
       "Slope                                 False\n",
       "Horizontal_Distance_To_Hydrology      False\n",
       "Vertical_Distance_To_Hydrology        False\n",
       "Horizontal_Distance_To_Roadways       False\n",
       "Hillshade_9am                         False\n",
       "Hillshade_Noon                        False\n",
       "Hillshade_3pm                         False\n",
       "Horizontal_Distance_To_Fire_Points    False\n",
       "Cover_Type                            False\n",
       "Soil_Type                             False\n",
       "dtype: bool"
      ]
     },
     "execution_count": 12,
     "metadata": {},
     "output_type": "execute_result"
    }
   ],
   "source": [
    "df_trees.isnull().any()"
   ]
  },
  {
   "cell_type": "code",
   "execution_count": 13,
   "metadata": {
    "ExecuteTime": {
     "end_time": "2018-08-08T00:48:31.037209Z",
     "start_time": "2018-08-08T00:48:30.586152Z"
    }
   },
   "outputs": [
    {
     "data": {
      "text/html": [
       "<div>\n",
       "<style scoped>\n",
       "    .dataframe tbody tr th:only-of-type {\n",
       "        vertical-align: middle;\n",
       "    }\n",
       "\n",
       "    .dataframe tbody tr th {\n",
       "        vertical-align: top;\n",
       "    }\n",
       "\n",
       "    .dataframe thead th {\n",
       "        text-align: right;\n",
       "    }\n",
       "</style>\n",
       "<table border=\"1\" class=\"dataframe\">\n",
       "  <thead>\n",
       "    <tr style=\"text-align: right;\">\n",
       "      <th></th>\n",
       "      <th>Elevation</th>\n",
       "      <th>Aspect</th>\n",
       "      <th>Slope</th>\n",
       "      <th>Horizontal_Distance_To_Hydrology</th>\n",
       "      <th>Vertical_Distance_To_Hydrology</th>\n",
       "      <th>Horizontal_Distance_To_Roadways</th>\n",
       "      <th>Hillshade_9am</th>\n",
       "      <th>Hillshade_Noon</th>\n",
       "      <th>Hillshade_3pm</th>\n",
       "      <th>Horizontal_Distance_To_Fire_Points</th>\n",
       "      <th>Cover_Type</th>\n",
       "      <th>Soil_Type</th>\n",
       "    </tr>\n",
       "  </thead>\n",
       "  <tbody>\n",
       "    <tr>\n",
       "      <th>count</th>\n",
       "      <td>581012.000000</td>\n",
       "      <td>581012.000000</td>\n",
       "      <td>581012.000000</td>\n",
       "      <td>581012.000000</td>\n",
       "      <td>581012.000000</td>\n",
       "      <td>581012.000000</td>\n",
       "      <td>581012.000000</td>\n",
       "      <td>581012.000000</td>\n",
       "      <td>581012.000000</td>\n",
       "      <td>581012.000000</td>\n",
       "      <td>581012.000000</td>\n",
       "      <td>581012.000000</td>\n",
       "    </tr>\n",
       "    <tr>\n",
       "      <th>mean</th>\n",
       "      <td>2959.365301</td>\n",
       "      <td>155.656807</td>\n",
       "      <td>14.103704</td>\n",
       "      <td>269.428217</td>\n",
       "      <td>46.418855</td>\n",
       "      <td>2350.146611</td>\n",
       "      <td>212.146049</td>\n",
       "      <td>223.318716</td>\n",
       "      <td>142.528263</td>\n",
       "      <td>1980.291226</td>\n",
       "      <td>2.051471</td>\n",
       "      <td>24.362443</td>\n",
       "    </tr>\n",
       "    <tr>\n",
       "      <th>std</th>\n",
       "      <td>279.984734</td>\n",
       "      <td>111.913721</td>\n",
       "      <td>7.488242</td>\n",
       "      <td>212.549356</td>\n",
       "      <td>58.295232</td>\n",
       "      <td>1559.254870</td>\n",
       "      <td>26.769889</td>\n",
       "      <td>19.768697</td>\n",
       "      <td>38.274529</td>\n",
       "      <td>1324.195210</td>\n",
       "      <td>1.396504</td>\n",
       "      <td>9.485405</td>\n",
       "    </tr>\n",
       "    <tr>\n",
       "      <th>min</th>\n",
       "      <td>1859.000000</td>\n",
       "      <td>0.000000</td>\n",
       "      <td>0.000000</td>\n",
       "      <td>0.000000</td>\n",
       "      <td>-173.000000</td>\n",
       "      <td>0.000000</td>\n",
       "      <td>0.000000</td>\n",
       "      <td>0.000000</td>\n",
       "      <td>0.000000</td>\n",
       "      <td>0.000000</td>\n",
       "      <td>1.000000</td>\n",
       "      <td>1.000000</td>\n",
       "    </tr>\n",
       "    <tr>\n",
       "      <th>25%</th>\n",
       "      <td>2809.000000</td>\n",
       "      <td>58.000000</td>\n",
       "      <td>9.000000</td>\n",
       "      <td>108.000000</td>\n",
       "      <td>7.000000</td>\n",
       "      <td>1106.000000</td>\n",
       "      <td>198.000000</td>\n",
       "      <td>213.000000</td>\n",
       "      <td>119.000000</td>\n",
       "      <td>1024.000000</td>\n",
       "      <td>1.000000</td>\n",
       "      <td>20.000000</td>\n",
       "    </tr>\n",
       "    <tr>\n",
       "      <th>50%</th>\n",
       "      <td>2996.000000</td>\n",
       "      <td>127.000000</td>\n",
       "      <td>13.000000</td>\n",
       "      <td>218.000000</td>\n",
       "      <td>30.000000</td>\n",
       "      <td>1997.000000</td>\n",
       "      <td>218.000000</td>\n",
       "      <td>226.000000</td>\n",
       "      <td>143.000000</td>\n",
       "      <td>1710.000000</td>\n",
       "      <td>2.000000</td>\n",
       "      <td>29.000000</td>\n",
       "    </tr>\n",
       "    <tr>\n",
       "      <th>75%</th>\n",
       "      <td>3163.000000</td>\n",
       "      <td>260.000000</td>\n",
       "      <td>18.000000</td>\n",
       "      <td>384.000000</td>\n",
       "      <td>69.000000</td>\n",
       "      <td>3328.000000</td>\n",
       "      <td>231.000000</td>\n",
       "      <td>237.000000</td>\n",
       "      <td>168.000000</td>\n",
       "      <td>2550.000000</td>\n",
       "      <td>2.000000</td>\n",
       "      <td>31.000000</td>\n",
       "    </tr>\n",
       "    <tr>\n",
       "      <th>max</th>\n",
       "      <td>3858.000000</td>\n",
       "      <td>360.000000</td>\n",
       "      <td>66.000000</td>\n",
       "      <td>1397.000000</td>\n",
       "      <td>601.000000</td>\n",
       "      <td>7117.000000</td>\n",
       "      <td>254.000000</td>\n",
       "      <td>254.000000</td>\n",
       "      <td>254.000000</td>\n",
       "      <td>7173.000000</td>\n",
       "      <td>7.000000</td>\n",
       "      <td>40.000000</td>\n",
       "    </tr>\n",
       "  </tbody>\n",
       "</table>\n",
       "</div>"
      ],
      "text/plain": [
       "           Elevation         Aspect          Slope  \\\n",
       "count  581012.000000  581012.000000  581012.000000   \n",
       "mean     2959.365301     155.656807      14.103704   \n",
       "std       279.984734     111.913721       7.488242   \n",
       "min      1859.000000       0.000000       0.000000   \n",
       "25%      2809.000000      58.000000       9.000000   \n",
       "50%      2996.000000     127.000000      13.000000   \n",
       "75%      3163.000000     260.000000      18.000000   \n",
       "max      3858.000000     360.000000      66.000000   \n",
       "\n",
       "       Horizontal_Distance_To_Hydrology  Vertical_Distance_To_Hydrology  \\\n",
       "count                     581012.000000                   581012.000000   \n",
       "mean                         269.428217                       46.418855   \n",
       "std                          212.549356                       58.295232   \n",
       "min                            0.000000                     -173.000000   \n",
       "25%                          108.000000                        7.000000   \n",
       "50%                          218.000000                       30.000000   \n",
       "75%                          384.000000                       69.000000   \n",
       "max                         1397.000000                      601.000000   \n",
       "\n",
       "       Horizontal_Distance_To_Roadways  Hillshade_9am  Hillshade_Noon  \\\n",
       "count                    581012.000000  581012.000000   581012.000000   \n",
       "mean                       2350.146611     212.146049      223.318716   \n",
       "std                        1559.254870      26.769889       19.768697   \n",
       "min                           0.000000       0.000000        0.000000   \n",
       "25%                        1106.000000     198.000000      213.000000   \n",
       "50%                        1997.000000     218.000000      226.000000   \n",
       "75%                        3328.000000     231.000000      237.000000   \n",
       "max                        7117.000000     254.000000      254.000000   \n",
       "\n",
       "       Hillshade_3pm  Horizontal_Distance_To_Fire_Points     Cover_Type  \\\n",
       "count  581012.000000                       581012.000000  581012.000000   \n",
       "mean      142.528263                         1980.291226       2.051471   \n",
       "std        38.274529                         1324.195210       1.396504   \n",
       "min         0.000000                            0.000000       1.000000   \n",
       "25%       119.000000                         1024.000000       1.000000   \n",
       "50%       143.000000                         1710.000000       2.000000   \n",
       "75%       168.000000                         2550.000000       2.000000   \n",
       "max       254.000000                         7173.000000       7.000000   \n",
       "\n",
       "           Soil_Type  \n",
       "count  581012.000000  \n",
       "mean       24.362443  \n",
       "std         9.485405  \n",
       "min         1.000000  \n",
       "25%        20.000000  \n",
       "50%        29.000000  \n",
       "75%        31.000000  \n",
       "max        40.000000  "
      ]
     },
     "execution_count": 13,
     "metadata": {},
     "output_type": "execute_result"
    }
   ],
   "source": [
    "df_trees.describe()"
   ]
  },
  {
   "cell_type": "code",
   "execution_count": 14,
   "metadata": {
    "ExecuteTime": {
     "end_time": "2018-08-08T00:48:31.284591Z",
     "start_time": "2018-08-08T00:48:31.075808Z"
    }
   },
   "outputs": [
    {
     "data": {
      "text/html": [
       "<div>\n",
       "<style scoped>\n",
       "    .dataframe tbody tr th:only-of-type {\n",
       "        vertical-align: middle;\n",
       "    }\n",
       "\n",
       "    .dataframe tbody tr th {\n",
       "        vertical-align: top;\n",
       "    }\n",
       "\n",
       "    .dataframe thead th {\n",
       "        text-align: right;\n",
       "    }\n",
       "</style>\n",
       "<table border=\"1\" class=\"dataframe\">\n",
       "  <thead>\n",
       "    <tr style=\"text-align: right;\">\n",
       "      <th></th>\n",
       "      <th>Elevation</th>\n",
       "      <th>Aspect</th>\n",
       "      <th>Slope</th>\n",
       "      <th>Horizontal_Distance_To_Hydrology</th>\n",
       "      <th>Vertical_Distance_To_Hydrology</th>\n",
       "      <th>Horizontal_Distance_To_Roadways</th>\n",
       "      <th>Hillshade_9am</th>\n",
       "      <th>Hillshade_Noon</th>\n",
       "      <th>Hillshade_3pm</th>\n",
       "      <th>Horizontal_Distance_To_Fire_Points</th>\n",
       "      <th>Cover_Type</th>\n",
       "      <th>Soil_Type</th>\n",
       "    </tr>\n",
       "  </thead>\n",
       "  <tbody>\n",
       "    <tr>\n",
       "      <th>Elevation</th>\n",
       "      <td>1.000000</td>\n",
       "      <td>0.015735</td>\n",
       "      <td>-0.242697</td>\n",
       "      <td>0.306229</td>\n",
       "      <td>0.093306</td>\n",
       "      <td>0.365559</td>\n",
       "      <td>0.112179</td>\n",
       "      <td>0.205887</td>\n",
       "      <td>0.059148</td>\n",
       "      <td>0.148022</td>\n",
       "      <td>-0.269554</td>\n",
       "      <td>0.689848</td>\n",
       "    </tr>\n",
       "    <tr>\n",
       "      <th>Aspect</th>\n",
       "      <td>0.015735</td>\n",
       "      <td>1.000000</td>\n",
       "      <td>0.078728</td>\n",
       "      <td>0.017376</td>\n",
       "      <td>0.070305</td>\n",
       "      <td>0.025121</td>\n",
       "      <td>-0.579273</td>\n",
       "      <td>0.336103</td>\n",
       "      <td>0.646944</td>\n",
       "      <td>-0.109172</td>\n",
       "      <td>0.017080</td>\n",
       "      <td>0.007149</td>\n",
       "    </tr>\n",
       "    <tr>\n",
       "      <th>Slope</th>\n",
       "      <td>-0.242697</td>\n",
       "      <td>0.078728</td>\n",
       "      <td>1.000000</td>\n",
       "      <td>-0.010607</td>\n",
       "      <td>0.274976</td>\n",
       "      <td>-0.215914</td>\n",
       "      <td>-0.327199</td>\n",
       "      <td>-0.526911</td>\n",
       "      <td>-0.175854</td>\n",
       "      <td>-0.185662</td>\n",
       "      <td>0.148285</td>\n",
       "      <td>-0.105571</td>\n",
       "    </tr>\n",
       "    <tr>\n",
       "      <th>Horizontal_Distance_To_Hydrology</th>\n",
       "      <td>0.306229</td>\n",
       "      <td>0.017376</td>\n",
       "      <td>-0.010607</td>\n",
       "      <td>1.000000</td>\n",
       "      <td>0.606236</td>\n",
       "      <td>0.072030</td>\n",
       "      <td>-0.027088</td>\n",
       "      <td>0.046790</td>\n",
       "      <td>0.052330</td>\n",
       "      <td>0.051874</td>\n",
       "      <td>-0.020317</td>\n",
       "      <td>0.194685</td>\n",
       "    </tr>\n",
       "    <tr>\n",
       "      <th>Vertical_Distance_To_Hydrology</th>\n",
       "      <td>0.093306</td>\n",
       "      <td>0.070305</td>\n",
       "      <td>0.274976</td>\n",
       "      <td>0.606236</td>\n",
       "      <td>1.000000</td>\n",
       "      <td>-0.046372</td>\n",
       "      <td>-0.166333</td>\n",
       "      <td>-0.110957</td>\n",
       "      <td>0.034902</td>\n",
       "      <td>-0.069913</td>\n",
       "      <td>0.081664</td>\n",
       "      <td>0.071313</td>\n",
       "    </tr>\n",
       "    <tr>\n",
       "      <th>Horizontal_Distance_To_Roadways</th>\n",
       "      <td>0.365559</td>\n",
       "      <td>0.025121</td>\n",
       "      <td>-0.215914</td>\n",
       "      <td>0.072030</td>\n",
       "      <td>-0.046372</td>\n",
       "      <td>1.000000</td>\n",
       "      <td>0.034349</td>\n",
       "      <td>0.189461</td>\n",
       "      <td>0.106119</td>\n",
       "      <td>0.331580</td>\n",
       "      <td>-0.153450</td>\n",
       "      <td>0.240829</td>\n",
       "    </tr>\n",
       "    <tr>\n",
       "      <th>Hillshade_9am</th>\n",
       "      <td>0.112179</td>\n",
       "      <td>-0.579273</td>\n",
       "      <td>-0.327199</td>\n",
       "      <td>-0.027088</td>\n",
       "      <td>-0.166333</td>\n",
       "      <td>0.034349</td>\n",
       "      <td>1.000000</td>\n",
       "      <td>0.010037</td>\n",
       "      <td>-0.780296</td>\n",
       "      <td>0.132669</td>\n",
       "      <td>-0.035415</td>\n",
       "      <td>0.040877</td>\n",
       "    </tr>\n",
       "    <tr>\n",
       "      <th>Hillshade_Noon</th>\n",
       "      <td>0.205887</td>\n",
       "      <td>0.336103</td>\n",
       "      <td>-0.526911</td>\n",
       "      <td>0.046790</td>\n",
       "      <td>-0.110957</td>\n",
       "      <td>0.189461</td>\n",
       "      <td>0.010037</td>\n",
       "      <td>1.000000</td>\n",
       "      <td>0.594274</td>\n",
       "      <td>0.057329</td>\n",
       "      <td>-0.096426</td>\n",
       "      <td>0.013662</td>\n",
       "    </tr>\n",
       "    <tr>\n",
       "      <th>Hillshade_3pm</th>\n",
       "      <td>0.059148</td>\n",
       "      <td>0.646944</td>\n",
       "      <td>-0.175854</td>\n",
       "      <td>0.052330</td>\n",
       "      <td>0.034902</td>\n",
       "      <td>0.106119</td>\n",
       "      <td>-0.780296</td>\n",
       "      <td>0.594274</td>\n",
       "      <td>1.000000</td>\n",
       "      <td>-0.047981</td>\n",
       "      <td>-0.048290</td>\n",
       "      <td>-0.001122</td>\n",
       "    </tr>\n",
       "    <tr>\n",
       "      <th>Horizontal_Distance_To_Fire_Points</th>\n",
       "      <td>0.148022</td>\n",
       "      <td>-0.109172</td>\n",
       "      <td>-0.185662</td>\n",
       "      <td>0.051874</td>\n",
       "      <td>-0.069913</td>\n",
       "      <td>0.331580</td>\n",
       "      <td>0.132669</td>\n",
       "      <td>0.057329</td>\n",
       "      <td>-0.047981</td>\n",
       "      <td>1.000000</td>\n",
       "      <td>-0.108936</td>\n",
       "      <td>0.100952</td>\n",
       "    </tr>\n",
       "    <tr>\n",
       "      <th>Cover_Type</th>\n",
       "      <td>-0.269554</td>\n",
       "      <td>0.017080</td>\n",
       "      <td>0.148285</td>\n",
       "      <td>-0.020317</td>\n",
       "      <td>0.081664</td>\n",
       "      <td>-0.153450</td>\n",
       "      <td>-0.035415</td>\n",
       "      <td>-0.096426</td>\n",
       "      <td>-0.048290</td>\n",
       "      <td>-0.108936</td>\n",
       "      <td>1.000000</td>\n",
       "      <td>-0.164337</td>\n",
       "    </tr>\n",
       "    <tr>\n",
       "      <th>Soil_Type</th>\n",
       "      <td>0.689848</td>\n",
       "      <td>0.007149</td>\n",
       "      <td>-0.105571</td>\n",
       "      <td>0.194685</td>\n",
       "      <td>0.071313</td>\n",
       "      <td>0.240829</td>\n",
       "      <td>0.040877</td>\n",
       "      <td>0.013662</td>\n",
       "      <td>-0.001122</td>\n",
       "      <td>0.100952</td>\n",
       "      <td>-0.164337</td>\n",
       "      <td>1.000000</td>\n",
       "    </tr>\n",
       "  </tbody>\n",
       "</table>\n",
       "</div>"
      ],
      "text/plain": [
       "                                    Elevation    Aspect     Slope  \\\n",
       "Elevation                            1.000000  0.015735 -0.242697   \n",
       "Aspect                               0.015735  1.000000  0.078728   \n",
       "Slope                               -0.242697  0.078728  1.000000   \n",
       "Horizontal_Distance_To_Hydrology     0.306229  0.017376 -0.010607   \n",
       "Vertical_Distance_To_Hydrology       0.093306  0.070305  0.274976   \n",
       "Horizontal_Distance_To_Roadways      0.365559  0.025121 -0.215914   \n",
       "Hillshade_9am                        0.112179 -0.579273 -0.327199   \n",
       "Hillshade_Noon                       0.205887  0.336103 -0.526911   \n",
       "Hillshade_3pm                        0.059148  0.646944 -0.175854   \n",
       "Horizontal_Distance_To_Fire_Points   0.148022 -0.109172 -0.185662   \n",
       "Cover_Type                          -0.269554  0.017080  0.148285   \n",
       "Soil_Type                            0.689848  0.007149 -0.105571   \n",
       "\n",
       "                                    Horizontal_Distance_To_Hydrology  \\\n",
       "Elevation                                                   0.306229   \n",
       "Aspect                                                      0.017376   \n",
       "Slope                                                      -0.010607   \n",
       "Horizontal_Distance_To_Hydrology                            1.000000   \n",
       "Vertical_Distance_To_Hydrology                              0.606236   \n",
       "Horizontal_Distance_To_Roadways                             0.072030   \n",
       "Hillshade_9am                                              -0.027088   \n",
       "Hillshade_Noon                                              0.046790   \n",
       "Hillshade_3pm                                               0.052330   \n",
       "Horizontal_Distance_To_Fire_Points                          0.051874   \n",
       "Cover_Type                                                 -0.020317   \n",
       "Soil_Type                                                   0.194685   \n",
       "\n",
       "                                    Vertical_Distance_To_Hydrology  \\\n",
       "Elevation                                                 0.093306   \n",
       "Aspect                                                    0.070305   \n",
       "Slope                                                     0.274976   \n",
       "Horizontal_Distance_To_Hydrology                          0.606236   \n",
       "Vertical_Distance_To_Hydrology                            1.000000   \n",
       "Horizontal_Distance_To_Roadways                          -0.046372   \n",
       "Hillshade_9am                                            -0.166333   \n",
       "Hillshade_Noon                                           -0.110957   \n",
       "Hillshade_3pm                                             0.034902   \n",
       "Horizontal_Distance_To_Fire_Points                       -0.069913   \n",
       "Cover_Type                                                0.081664   \n",
       "Soil_Type                                                 0.071313   \n",
       "\n",
       "                                    Horizontal_Distance_To_Roadways  \\\n",
       "Elevation                                                  0.365559   \n",
       "Aspect                                                     0.025121   \n",
       "Slope                                                     -0.215914   \n",
       "Horizontal_Distance_To_Hydrology                           0.072030   \n",
       "Vertical_Distance_To_Hydrology                            -0.046372   \n",
       "Horizontal_Distance_To_Roadways                            1.000000   \n",
       "Hillshade_9am                                              0.034349   \n",
       "Hillshade_Noon                                             0.189461   \n",
       "Hillshade_3pm                                              0.106119   \n",
       "Horizontal_Distance_To_Fire_Points                         0.331580   \n",
       "Cover_Type                                                -0.153450   \n",
       "Soil_Type                                                  0.240829   \n",
       "\n",
       "                                    Hillshade_9am  Hillshade_Noon  \\\n",
       "Elevation                                0.112179        0.205887   \n",
       "Aspect                                  -0.579273        0.336103   \n",
       "Slope                                   -0.327199       -0.526911   \n",
       "Horizontal_Distance_To_Hydrology        -0.027088        0.046790   \n",
       "Vertical_Distance_To_Hydrology          -0.166333       -0.110957   \n",
       "Horizontal_Distance_To_Roadways          0.034349        0.189461   \n",
       "Hillshade_9am                            1.000000        0.010037   \n",
       "Hillshade_Noon                           0.010037        1.000000   \n",
       "Hillshade_3pm                           -0.780296        0.594274   \n",
       "Horizontal_Distance_To_Fire_Points       0.132669        0.057329   \n",
       "Cover_Type                              -0.035415       -0.096426   \n",
       "Soil_Type                                0.040877        0.013662   \n",
       "\n",
       "                                    Hillshade_3pm  \\\n",
       "Elevation                                0.059148   \n",
       "Aspect                                   0.646944   \n",
       "Slope                                   -0.175854   \n",
       "Horizontal_Distance_To_Hydrology         0.052330   \n",
       "Vertical_Distance_To_Hydrology           0.034902   \n",
       "Horizontal_Distance_To_Roadways          0.106119   \n",
       "Hillshade_9am                           -0.780296   \n",
       "Hillshade_Noon                           0.594274   \n",
       "Hillshade_3pm                            1.000000   \n",
       "Horizontal_Distance_To_Fire_Points      -0.047981   \n",
       "Cover_Type                              -0.048290   \n",
       "Soil_Type                               -0.001122   \n",
       "\n",
       "                                    Horizontal_Distance_To_Fire_Points  \\\n",
       "Elevation                                                     0.148022   \n",
       "Aspect                                                       -0.109172   \n",
       "Slope                                                        -0.185662   \n",
       "Horizontal_Distance_To_Hydrology                              0.051874   \n",
       "Vertical_Distance_To_Hydrology                               -0.069913   \n",
       "Horizontal_Distance_To_Roadways                               0.331580   \n",
       "Hillshade_9am                                                 0.132669   \n",
       "Hillshade_Noon                                                0.057329   \n",
       "Hillshade_3pm                                                -0.047981   \n",
       "Horizontal_Distance_To_Fire_Points                            1.000000   \n",
       "Cover_Type                                                   -0.108936   \n",
       "Soil_Type                                                     0.100952   \n",
       "\n",
       "                                    Cover_Type  Soil_Type  \n",
       "Elevation                            -0.269554   0.689848  \n",
       "Aspect                                0.017080   0.007149  \n",
       "Slope                                 0.148285  -0.105571  \n",
       "Horizontal_Distance_To_Hydrology     -0.020317   0.194685  \n",
       "Vertical_Distance_To_Hydrology        0.081664   0.071313  \n",
       "Horizontal_Distance_To_Roadways      -0.153450   0.240829  \n",
       "Hillshade_9am                        -0.035415   0.040877  \n",
       "Hillshade_Noon                       -0.096426   0.013662  \n",
       "Hillshade_3pm                        -0.048290  -0.001122  \n",
       "Horizontal_Distance_To_Fire_Points   -0.108936   0.100952  \n",
       "Cover_Type                            1.000000  -0.164337  \n",
       "Soil_Type                            -0.164337   1.000000  "
      ]
     },
     "execution_count": 14,
     "metadata": {},
     "output_type": "execute_result"
    }
   ],
   "source": [
    "df_trees.corr()"
   ]
  },
  {
   "cell_type": "code",
   "execution_count": 13,
   "metadata": {
    "ExecuteTime": {
     "end_time": "2018-08-07T17:39:26.440291Z",
     "start_time": "2018-08-07T17:39:20.976133Z"
    }
   },
   "outputs": [],
   "source": [
    "#Saving to a file\n",
    "df_trees.to_csv(\"Trees_clean.csv\",index=False)"
   ]
  },
  {
   "cell_type": "code",
   "execution_count": 14,
   "metadata": {
    "ExecuteTime": {
     "end_time": "2018-08-07T17:39:26.754891Z",
     "start_time": "2018-08-07T17:39:26.443038Z"
    }
   },
   "outputs": [
    {
     "data": {
      "image/png": "[encoded data removed]",
      "text/plain": [
       "<Figure size 432x288 with 1 Axes>"
      ]
     },
     "metadata": {},
     "output_type": "display_data"
    }
   ],
   "source": [
    "plt.hist(df_trees[\"Horizontal_Distance_To_Fire_Points\"],50);"
   ]
  },
  {
   "cell_type": "code",
   "execution_count": 15,
   "metadata": {
    "ExecuteTime": {
     "end_time": "2018-08-07T17:39:26.836305Z",
     "start_time": "2018-08-07T17:39:26.756523Z"
    }
   },
   "outputs": [
    {
     "data": {
      "text/plain": [
       "0.24182116720480817"
      ]
     },
     "execution_count": 15,
     "metadata": {},
     "output_type": "execute_result"
    }
   ],
   "source": [
    "df_trees[\"Horizontal_Distance_To_Fire_Points\"][df_trees[\"Horizontal_Distance_To_Fire_Points\"]<1000].count()/df_trees[\"Cover_Type\"].count()"
   ]
  },
  {
   "cell_type": "markdown",
   "metadata": {},
   "source": [
    "### High risk areas\n",
    "\n",
    "We take point closer than 600 m (~10% of the entries) to wildfires as high risk zones."
   ]
  },
  {
   "cell_type": "code",
   "execution_count": 16,
   "metadata": {
    "ExecuteTime": {
     "end_time": "2018-08-07T17:39:27.468950Z",
     "start_time": "2018-08-07T17:39:26.838261Z"
    }
   },
   "outputs": [
    {
     "data": {
      "text/plain": [
       "7173"
      ]
     },
     "execution_count": 16,
     "metadata": {},
     "output_type": "execute_result"
    }
   ],
   "source": [
    "df_high = pd.read_csv(\"Trees_clean.csv\")\n",
    "df_high[\"Horizontal_Distance_To_Fire_Points\"].max()"
   ]
  },
  {
   "cell_type": "code",
   "execution_count": 17,
   "metadata": {
    "ExecuteTime": {
     "end_time": "2018-08-07T17:39:30.785466Z",
     "start_time": "2018-08-07T17:39:27.471624Z"
    }
   },
   "outputs": [],
   "source": [
    "df_high[\"Horizontal_Distance_To_Fire_Points\"].replace(np.arange(0,601,1),1, inplace=True)\n",
    "df_high[\"Horizontal_Distance_To_Fire_Points\"].replace(np.arange(601,8000,1),0, inplace=True)"
   ]
  },
  {
   "cell_type": "code",
   "execution_count": 18,
   "metadata": {
    "ExecuteTime": {
     "end_time": "2018-08-07T17:39:30.797457Z",
     "start_time": "2018-08-07T17:39:30.787233Z"
    }
   },
   "outputs": [
    {
     "data": {
      "text/plain": [
       "0.10188429843101347"
      ]
     },
     "execution_count": 18,
     "metadata": {},
     "output_type": "execute_result"
    }
   ],
   "source": [
    "df_high[\"Horizontal_Distance_To_Fire_Points\"][df_high[\"Horizontal_Distance_To_Fire_Points\"]==1].count()/(df_high[\"Horizontal_Distance_To_Fire_Points\"].count())"
   ]
  },
  {
   "cell_type": "code",
   "execution_count": 19,
   "metadata": {
    "ExecuteTime": {
     "end_time": "2018-08-07T17:39:30.890384Z",
     "start_time": "2018-08-07T17:39:30.800069Z"
    }
   },
   "outputs": [
    {
     "data": {
      "text/plain": [
       "Counter({0: 521816, 1: 59196})"
      ]
     },
     "execution_count": 19,
     "metadata": {},
     "output_type": "execute_result"
    }
   ],
   "source": [
    "Counter(df_high[\"Horizontal_Distance_To_Fire_Points\"])"
   ]
  },
  {
   "cell_type": "code",
   "execution_count": 20,
   "metadata": {
    "ExecuteTime": {
     "end_time": "2018-08-07T17:39:30.994551Z",
     "start_time": "2018-08-07T17:39:30.891929Z"
    }
   },
   "outputs": [
    {
     "data": {
      "text/html": [
       "<div>\n",
       "<style scoped>\n",
       "    .dataframe tbody tr th:only-of-type {\n",
       "        vertical-align: middle;\n",
       "    }\n",
       "\n",
       "    .dataframe tbody tr th {\n",
       "        vertical-align: top;\n",
       "    }\n",
       "\n",
       "    .dataframe thead th {\n",
       "        text-align: right;\n",
       "    }\n",
       "</style>\n",
       "<table border=\"1\" class=\"dataframe\">\n",
       "  <thead>\n",
       "    <tr style=\"text-align: right;\">\n",
       "      <th></th>\n",
       "      <th>Elevation</th>\n",
       "      <th>Aspect</th>\n",
       "      <th>Slope</th>\n",
       "      <th>Horizontal_Distance_To_Hydrology</th>\n",
       "      <th>Vertical_Distance_To_Hydrology</th>\n",
       "      <th>Horizontal_Distance_To_Roadways</th>\n",
       "      <th>Hillshade_9am</th>\n",
       "      <th>Hillshade_Noon</th>\n",
       "      <th>Hillshade_3pm</th>\n",
       "      <th>Horizontal_Distance_To_Fire_Points</th>\n",
       "      <th>Cover_Type</th>\n",
       "      <th>Soil_Type</th>\n",
       "    </tr>\n",
       "  </thead>\n",
       "  <tbody>\n",
       "    <tr>\n",
       "      <th>0</th>\n",
       "      <td>2596</td>\n",
       "      <td>51</td>\n",
       "      <td>3</td>\n",
       "      <td>258</td>\n",
       "      <td>0</td>\n",
       "      <td>510</td>\n",
       "      <td>221</td>\n",
       "      <td>232</td>\n",
       "      <td>148</td>\n",
       "      <td>0</td>\n",
       "      <td>5</td>\n",
       "      <td>29</td>\n",
       "    </tr>\n",
       "    <tr>\n",
       "      <th>1</th>\n",
       "      <td>2590</td>\n",
       "      <td>56</td>\n",
       "      <td>2</td>\n",
       "      <td>212</td>\n",
       "      <td>-6</td>\n",
       "      <td>390</td>\n",
       "      <td>220</td>\n",
       "      <td>235</td>\n",
       "      <td>151</td>\n",
       "      <td>0</td>\n",
       "      <td>5</td>\n",
       "      <td>29</td>\n",
       "    </tr>\n",
       "    <tr>\n",
       "      <th>2</th>\n",
       "      <td>2804</td>\n",
       "      <td>139</td>\n",
       "      <td>9</td>\n",
       "      <td>268</td>\n",
       "      <td>65</td>\n",
       "      <td>3180</td>\n",
       "      <td>234</td>\n",
       "      <td>238</td>\n",
       "      <td>135</td>\n",
       "      <td>0</td>\n",
       "      <td>2</td>\n",
       "      <td>12</td>\n",
       "    </tr>\n",
       "    <tr>\n",
       "      <th>3</th>\n",
       "      <td>2785</td>\n",
       "      <td>155</td>\n",
       "      <td>18</td>\n",
       "      <td>242</td>\n",
       "      <td>118</td>\n",
       "      <td>3090</td>\n",
       "      <td>238</td>\n",
       "      <td>238</td>\n",
       "      <td>122</td>\n",
       "      <td>0</td>\n",
       "      <td>2</td>\n",
       "      <td>30</td>\n",
       "    </tr>\n",
       "    <tr>\n",
       "      <th>4</th>\n",
       "      <td>2595</td>\n",
       "      <td>45</td>\n",
       "      <td>2</td>\n",
       "      <td>153</td>\n",
       "      <td>-1</td>\n",
       "      <td>391</td>\n",
       "      <td>220</td>\n",
       "      <td>234</td>\n",
       "      <td>150</td>\n",
       "      <td>0</td>\n",
       "      <td>5</td>\n",
       "      <td>29</td>\n",
       "    </tr>\n",
       "  </tbody>\n",
       "</table>\n",
       "</div>"
      ],
      "text/plain": [
       "   Elevation  Aspect  Slope  Horizontal_Distance_To_Hydrology  \\\n",
       "0       2596      51      3                               258   \n",
       "1       2590      56      2                               212   \n",
       "2       2804     139      9                               268   \n",
       "3       2785     155     18                               242   \n",
       "4       2595      45      2                               153   \n",
       "\n",
       "   Vertical_Distance_To_Hydrology  Horizontal_Distance_To_Roadways  \\\n",
       "0                               0                              510   \n",
       "1                              -6                              390   \n",
       "2                              65                             3180   \n",
       "3                             118                             3090   \n",
       "4                              -1                              391   \n",
       "\n",
       "   Hillshade_9am  Hillshade_Noon  Hillshade_3pm  \\\n",
       "0            221             232            148   \n",
       "1            220             235            151   \n",
       "2            234             238            135   \n",
       "3            238             238            122   \n",
       "4            220             234            150   \n",
       "\n",
       "   Horizontal_Distance_To_Fire_Points  Cover_Type  Soil_Type  \n",
       "0                                   0           5         29  \n",
       "1                                   0           5         29  \n",
       "2                                   0           2         12  \n",
       "3                                   0           2         30  \n",
       "4                                   0           5         29  "
      ]
     },
     "execution_count": 20,
     "metadata": {},
     "output_type": "execute_result"
    }
   ],
   "source": [
    "df_high.head()"
   ]
  },
  {
   "cell_type": "code",
   "execution_count": 21,
   "metadata": {
    "ExecuteTime": {
     "end_time": "2018-08-07T17:39:36.263541Z",
     "start_time": "2018-08-07T17:39:30.999579Z"
    }
   },
   "outputs": [],
   "source": [
    "df_high.to_csv(\"Fire_high.csv\",index=False)"
   ]
  },
  {
   "cell_type": "markdown",
   "metadata": {},
   "source": [
    "### Fire risk scale\n",
    "\n",
    "We classify the risk for fire as:\n",
    "\n",
    "Closer than 600 m (~10% of the entries) to wildfires as high risk zones (Label = 2).  \n",
    "Between 601 m and 1700 m (~40% of the entries) to wildfires as moderate risk zones (Label = 1).  \n",
    "Further away than 1700 m (~50% of the entries) to wildfires as low risk zones (Label = 0).  "
   ]
  },
  {
   "cell_type": "code",
   "execution_count": 22,
   "metadata": {
    "ExecuteTime": {
     "end_time": "2018-08-07T17:39:38.469878Z",
     "start_time": "2018-08-07T17:39:36.264925Z"
    }
   },
   "outputs": [],
   "source": [
    "df_multi = pd.read_csv(\"Trees_clean.csv\")\n",
    "df_multi[\"Horizontal_Distance_To_Fire_Points\"].replace(np.arange(0,601,1),2, inplace=True)\n",
    "df_multi[\"Horizontal_Distance_To_Fire_Points\"].replace(np.arange(601,1701,1),1, inplace=True)\n",
    "df_multi[\"Horizontal_Distance_To_Fire_Points\"].replace(np.arange(1701,8000,1),0, inplace=True)"
   ]
  },
  {
   "cell_type": "code",
   "execution_count": 23,
   "metadata": {
    "ExecuteTime": {
     "end_time": "2018-08-07T17:39:38.485150Z",
     "start_time": "2018-08-07T17:39:38.471851Z"
    }
   },
   "outputs": [
    {
     "data": {
      "text/plain": [
       "0.3950159377086876"
      ]
     },
     "execution_count": 23,
     "metadata": {},
     "output_type": "execute_result"
    }
   ],
   "source": [
    "df_multi[\"Horizontal_Distance_To_Fire_Points\"][df_multi[\"Horizontal_Distance_To_Fire_Points\"]==1].count()/(df_multi[\"Horizontal_Distance_To_Fire_Points\"].count())"
   ]
  },
  {
   "cell_type": "code",
   "execution_count": 24,
   "metadata": {
    "ExecuteTime": {
     "end_time": "2018-08-07T17:39:38.619252Z",
     "start_time": "2018-08-07T17:39:38.486867Z"
    }
   },
   "outputs": [
    {
     "data": {
      "text/plain": [
       "Counter({0: 292307, 1: 229509, 2: 59196})"
      ]
     },
     "execution_count": 24,
     "metadata": {},
     "output_type": "execute_result"
    }
   ],
   "source": [
    "Counter(df_multi[\"Horizontal_Distance_To_Fire_Points\"])"
   ]
  },
  {
   "cell_type": "code",
   "execution_count": 25,
   "metadata": {
    "ExecuteTime": {
     "end_time": "2018-08-07T17:39:43.674310Z",
     "start_time": "2018-08-07T17:39:38.621216Z"
    }
   },
   "outputs": [],
   "source": [
    "df_multi.to_csv(\"Fire_multi.csv\",index=False)"
   ]
  },
  {
   "cell_type": "code",
   "execution_count": 33,
   "metadata": {
    "ExecuteTime": {
     "end_time": "2018-08-07T17:50:02.159463Z",
     "start_time": "2018-08-07T17:50:02.126759Z"
    }
   },
   "outputs": [],
   "source": [
    "X = df_multi.drop(\"Horizontal_Distance_To_Fire_Points\", axis=1)\n",
    "y = df_multi[\"Horizontal_Distance_To_Fire_Points\"]"
   ]
  },
  {
   "cell_type": "code",
   "execution_count": 34,
   "metadata": {
    "ExecuteTime": {
     "end_time": "2018-08-07T17:50:02.596031Z",
     "start_time": "2018-08-07T17:50:02.587935Z"
    }
   },
   "outputs": [],
   "source": [
    "X[\"Vertical_Distance_To_Hydrology\"] = X[\"Vertical_Distance_To_Hydrology\"] + 173"
   ]
  },
  {
   "cell_type": "code",
   "execution_count": 37,
   "metadata": {
    "ExecuteTime": {
     "end_time": "2018-08-07T17:50:25.948018Z",
     "start_time": "2018-08-07T17:50:25.752338Z"
    }
   },
   "outputs": [],
   "source": [
    "sca = StandardScaler()\n",
    "sca.fit_transform(X);"
   ]
  },
  {
   "cell_type": "code",
   "execution_count": 38,
   "metadata": {
    "ExecuteTime": {
     "end_time": "2018-08-07T17:50:29.165220Z",
     "start_time": "2018-08-07T17:50:29.005898Z"
    }
   },
   "outputs": [
    {
     "data": {
      "text/plain": [
       "(array([9.16052147e+05, 5.68018071e+05, 7.05268306e+04, 1.00187658e+06,\n",
       "        3.31147835e+04, 3.62313072e+07, 3.69023090e+04, 2.32536686e+03,\n",
       "        2.15522723e+04, 7.48371337e+03, 6.94224934e+04]),\n",
       " array([0., 0., 0., 0., 0., 0., 0., 0., 0., 0., 0.]))"
      ]
     },
     "execution_count": 38,
     "metadata": {},
     "output_type": "execute_result"
    }
   ],
   "source": [
    "chi2(X,y)"
   ]
  },
  {
   "cell_type": "code",
   "execution_count": 32,
   "metadata": {
    "ExecuteTime": {
     "end_time": "2018-08-07T17:42:17.463105Z",
     "start_time": "2018-08-07T17:42:17.458937Z"
    }
   },
   "outputs": [
    {
     "data": {
      "text/plain": [
       "Index(['Elevation', 'Aspect', 'Slope', 'Horizontal_Distance_To_Hydrology',\n",
       "       'Vertical_Distance_To_Hydrology', 'Horizontal_Distance_To_Roadways',\n",
       "       'Hillshade_9am', 'Hillshade_Noon', 'Hillshade_3pm', 'Cover_Type',\n",
       "       'Soil_Type'],\n",
       "      dtype='object')"
      ]
     },
     "execution_count": 32,
     "metadata": {},
     "output_type": "execute_result"
    }
   ],
   "source": [
    "X.columns"
   ]
  },
  {
   "cell_type": "code",
   "execution_count": null,
   "metadata": {},
   "outputs": [],
   "source": []
  }
 ],
 "metadata": {
  "kernelspec": {
   "display_name": "Python 3",
   "language": "python",
   "name": "python3"
  },
  "language_info": {
   "codemirror_mode": {
    "name": "ipython",
    "version": 3
   },
   "file_extension": ".py",
   "mimetype": "text/x-python",
   "name": "python",
   "nbconvert_exporter": "python",
   "pygments_lexer": "ipython3",
   "version": "3.6.4"
  },
  "varInspector": {
   "cols": {
    "lenName": 16,
    "lenType": 16,
    "lenVar": 40
   },
   "kernels_config": {
    "python": {
     "delete_cmd_postfix": "",
     "delete_cmd_prefix": "del ",
     "library": "var_list.py",
     "varRefreshCmd": "print(var_dic_list())"
    },
    "r": {
     "delete_cmd_postfix": ") ",
     "delete_cmd_prefix": "rm(",
     "library": "var_list.r",
     "varRefreshCmd": "cat(var_dic_list()) "
    }
   },
   "types_to_exclude": [
    "module",
    "function",
    "builtin_function_or_method",
    "instance",
    "_Feature"
   ],
   "window_display": false
  }
 },
 "nbformat": 4,
 "nbformat_minor": 2
}
