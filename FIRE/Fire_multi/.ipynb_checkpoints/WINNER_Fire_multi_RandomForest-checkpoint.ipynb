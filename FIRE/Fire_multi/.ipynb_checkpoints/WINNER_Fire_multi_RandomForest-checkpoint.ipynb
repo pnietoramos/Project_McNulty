{
 "cells": [
  {
   "cell_type": "code",
   "execution_count": 1,
   "metadata": {
    "ExecuteTime": {
     "end_time": "2018-08-07T17:44:01.972633Z",
     "start_time": "2018-08-07T17:44:00.883178Z"
    }
   },
   "outputs": [
    {
     "name": "stderr",
     "output_type": "stream",
     "text": [
      "/home/pnietoramos/anaconda3/lib/python3.6/site-packages/sklearn/cross_validation.py:41: DeprecationWarning: This module was deprecated in version 0.18 in favor of the model_selection module into which all the refactored classes and functions are moved. Also note that the interface of the new CV iterators are different from that of this module. This module will be removed in 0.20.\n",
      "  \"This module will be removed in 0.20.\", DeprecationWarning)\n"
     ]
    },
    {
     "data": {
      "text/html": [
       "<style>.container { width:95% !important; }</style>"
      ],
      "text/plain": [
       "<IPython.core.display.HTML object>"
      ]
     },
     "metadata": {},
     "output_type": "display_data"
    }
   ],
   "source": [
    "import pandas as pd\n",
    "import numpy as np\n",
    "import requests\n",
    "import pickle as pkl\n",
    "import matplotlib.pyplot as plt\n",
    "import seaborn as sns\n",
    "\n",
    "from sklearn.cross_validation import train_test_split\n",
    "from sklearn.neighbors import KNeighborsClassifier\n",
    "from sklearn.metrics import accuracy_score, recall_score, precision_score, f1_score\n",
    "from sklearn.linear_model import LogisticRegression\n",
    "from sklearn.naive_bayes import GaussianNB\n",
    "from sklearn.svm import SVC\n",
    "from sklearn.tree import DecisionTreeClassifier\n",
    "from sklearn.ensemble import RandomForestClassifier\n",
    "from sklearn.preprocessing import StandardScaler\n",
    "from sklearn.model_selection import GridSearchCV\n",
    "from sklearn.metrics import confusion_matrix\n",
    "\n",
    "from imblearn.over_sampling import RandomOverSampler\n",
    "from imblearn.over_sampling import SMOTE, ADASYN\n",
    "\n",
    "from collections import Counter\n",
    "\n",
    "import warnings\n",
    "warnings.filterwarnings(\"ignore\", category=DeprecationWarning)\n",
    "\n",
    "%matplotlib inline\n",
    "\n",
    "from IPython.core.display import display, HTML\n",
    "display(HTML(\"<style>.container { width:95% !important; }</style>\"))\n",
    "plt.style.use(\"seaborn\")"
   ]
  },
  {
   "cell_type": "markdown",
   "metadata": {},
   "source": [
    "### Defining Features and Classifier"
   ]
  },
  {
   "cell_type": "code",
   "execution_count": 2,
   "metadata": {
    "ExecuteTime": {
     "end_time": "2018-08-07T17:44:02.674712Z",
     "start_time": "2018-08-07T17:44:01.987723Z"
    }
   },
   "outputs": [],
   "source": [
    "df_multi = pd.read_csv(\"Fire_multi.csv\", index_col=False)"
   ]
  },
  {
   "cell_type": "code",
   "execution_count": 3,
   "metadata": {
    "ExecuteTime": {
     "end_time": "2018-08-07T17:44:02.710050Z",
     "start_time": "2018-08-07T17:44:02.696355Z"
    },
    "scrolled": true
   },
   "outputs": [
    {
     "data": {
      "text/html": [
       "<div>\n",
       "<style scoped>\n",
       "    .dataframe tbody tr th:only-of-type {\n",
       "        vertical-align: middle;\n",
       "    }\n",
       "\n",
       "    .dataframe tbody tr th {\n",
       "        vertical-align: top;\n",
       "    }\n",
       "\n",
       "    .dataframe thead th {\n",
       "        text-align: right;\n",
       "    }\n",
       "</style>\n",
       "<table border=\"1\" class=\"dataframe\">\n",
       "  <thead>\n",
       "    <tr style=\"text-align: right;\">\n",
       "      <th></th>\n",
       "      <th>Elevation</th>\n",
       "      <th>Aspect</th>\n",
       "      <th>Slope</th>\n",
       "      <th>Horizontal_Distance_To_Hydrology</th>\n",
       "      <th>Vertical_Distance_To_Hydrology</th>\n",
       "      <th>Horizontal_Distance_To_Roadways</th>\n",
       "      <th>Hillshade_9am</th>\n",
       "      <th>Hillshade_Noon</th>\n",
       "      <th>Hillshade_3pm</th>\n",
       "      <th>Horizontal_Distance_To_Fire_Points</th>\n",
       "      <th>Cover_Type</th>\n",
       "      <th>Soil_Type</th>\n",
       "    </tr>\n",
       "  </thead>\n",
       "  <tbody>\n",
       "    <tr>\n",
       "      <th>0</th>\n",
       "      <td>2596</td>\n",
       "      <td>51</td>\n",
       "      <td>3</td>\n",
       "      <td>258</td>\n",
       "      <td>0</td>\n",
       "      <td>510</td>\n",
       "      <td>221</td>\n",
       "      <td>232</td>\n",
       "      <td>148</td>\n",
       "      <td>0</td>\n",
       "      <td>5</td>\n",
       "      <td>29</td>\n",
       "    </tr>\n",
       "  </tbody>\n",
       "</table>\n",
       "</div>"
      ],
      "text/plain": [
       "   Elevation  Aspect  Slope  Horizontal_Distance_To_Hydrology  \\\n",
       "0       2596      51      3                               258   \n",
       "\n",
       "   Vertical_Distance_To_Hydrology  Horizontal_Distance_To_Roadways  \\\n",
       "0                               0                              510   \n",
       "\n",
       "   Hillshade_9am  Hillshade_Noon  Hillshade_3pm  \\\n",
       "0            221             232            148   \n",
       "\n",
       "   Horizontal_Distance_To_Fire_Points  Cover_Type  Soil_Type  \n",
       "0                                   0           5         29  "
      ]
     },
     "execution_count": 3,
     "metadata": {},
     "output_type": "execute_result"
    }
   ],
   "source": [
    "df_multi.head(1)"
   ]
  },
  {
   "cell_type": "code",
   "execution_count": 4,
   "metadata": {
    "ExecuteTime": {
     "end_time": "2018-08-07T17:44:02.960370Z",
     "start_time": "2018-08-07T17:44:02.918539Z"
    }
   },
   "outputs": [],
   "source": [
    "X = df_multi.drop(\"Horizontal_Distance_To_Fire_Points\",axis=1)\n",
    "y = df_multi[\"Horizontal_Distance_To_Fire_Points\"]"
   ]
  },
  {
   "cell_type": "code",
   "execution_count": 5,
   "metadata": {
    "ExecuteTime": {
     "end_time": "2018-08-07T17:44:03.847277Z",
     "start_time": "2018-08-07T17:44:03.563453Z"
    }
   },
   "outputs": [],
   "source": [
    "#Splitting the set (test = 0.3) in a stratified manner\n",
    "X_train, X_test, y_train, y_test = train_test_split(X, y, test_size=.30,stratify=y, random_state=4444)"
   ]
  },
  {
   "cell_type": "code",
   "execution_count": 6,
   "metadata": {
    "ExecuteTime": {
     "end_time": "2018-08-07T17:44:04.094432Z",
     "start_time": "2018-08-07T17:44:03.908851Z"
    }
   },
   "outputs": [],
   "source": [
    "#scaling the features\n",
    "sca = StandardScaler()\n",
    "sca.fit_transform(X_train)\n",
    "sca.transform(X_test);"
   ]
  },
  {
   "cell_type": "markdown",
   "metadata": {},
   "source": [
    "### Oversampling with SMOTE"
   ]
  },
  {
   "cell_type": "code",
   "execution_count": 231,
   "metadata": {
    "ExecuteTime": {
     "end_time": "2018-08-07T22:37:01.071085Z",
     "start_time": "2018-08-07T22:37:01.050214Z"
    }
   },
   "outputs": [],
   "source": [
    "col_in = [\"Elevation\",\"Horizontal_Distance_To_Roadways\", \"Soil_Type\",\n",
    "          \"Horizontal_Distance_To_Hydrology\",\"Vertical_Distance_To_Hydrology\"]\n",
    "X_in = X[col_in]\n",
    "X_train_in = X_train[col_in]\n",
    "X_test_in = X_test[col_in]"
   ]
  },
  {
   "cell_type": "code",
   "execution_count": 232,
   "metadata": {
    "ExecuteTime": {
     "end_time": "2018-08-07T22:37:04.560416Z",
     "start_time": "2018-08-07T22:37:01.838443Z"
    }
   },
   "outputs": [],
   "source": [
    "X_smoted, y_smoted = SMOTE(random_state=42).fit_sample(X_train_in,y_train)"
   ]
  },
  {
   "cell_type": "code",
   "execution_count": 233,
   "metadata": {
    "ExecuteTime": {
     "end_time": "2018-08-07T22:44:05.214374Z",
     "start_time": "2018-08-07T22:37:04.793299Z"
    }
   },
   "outputs": [
    {
     "name": "stdout",
     "output_type": "stream",
     "text": [
      "0.9999704948021676\n",
      "0.9308736460436938\n"
     ]
    }
   ],
   "source": [
    "rf = RandomForestClassifier(max_leaf_nodes=5000000, max_depth=50, n_estimators=200)\n",
    "rf.fit(X_smoted, y_smoted)\n",
    "y_pred = rf.predict(X_test_in)\n",
    "y_pred_train = rf.predict(X_smoted)\n",
    "print(accuracy_score(y_pred_train, y_smoted))\n",
    "print(accuracy_score(y_pred, y_test))\n"
   ]
  },
  {
   "cell_type": "code",
   "execution_count": 10,
   "metadata": {
    "ExecuteTime": {
     "end_time": "2018-08-07T17:52:06.201849Z",
     "start_time": "2018-08-07T17:52:05.827963Z"
    }
   },
   "outputs": [
    {
     "name": "stdout",
     "output_type": "stream",
     "text": [
      "Recall for cover:\n",
      "Type 0:95.29717648132099\n",
      "Type 1:91.29885408043222\n",
      "Type 2:89.07033053662931\n"
     ]
    }
   ],
   "source": [
    "print(\"Recall for cover:\")\n",
    "for i in range(3):\n",
    "    print(\"Type \" + str(i)+ \":\" + str(100 * confusion_matrix(y_test, y_pred)[i,i]/len(y_test[y_test==(i)])))"
   ]
  },
  {
   "cell_type": "code",
   "execution_count": 11,
   "metadata": {
    "ExecuteTime": {
     "end_time": "2018-08-07T17:52:06.598516Z",
     "start_time": "2018-08-07T17:52:06.273169Z"
    }
   },
   "outputs": [
    {
     "name": "stdout",
     "output_type": "stream",
     "text": [
      "Precision for cover:\n",
      "Type 0:95.10304878742703\n",
      "Type 1:93.01176296515499\n",
      "Type 2:83.92402376910017\n"
     ]
    }
   ],
   "source": [
    "print(\"Precision for cover:\")\n",
    "for i in range(3):\n",
    "    print(\"Type \" + str(i)+ \":\" + str(100 * confusion_matrix(y_test, y_pred)[i,i]/len(y_pred[y_pred==(i)])))"
   ]
  },
  {
   "cell_type": "markdown",
   "metadata": {},
   "source": [
    "### Training with the whole set with oversampling"
   ]
  },
  {
   "cell_type": "code",
   "execution_count": 234,
   "metadata": {
    "ExecuteTime": {
     "end_time": "2018-08-07T22:44:05.482656Z",
     "start_time": "2018-08-07T22:44:05.464521Z"
    }
   },
   "outputs": [],
   "source": [
    "col_in = [\"Elevation\",\"Horizontal_Distance_To_Roadways\", \"Soil_Type\",\"Horizontal_Distance_To_Hydrology\",\"Vertical_Distance_To_Hydrology\"]\n",
    "X_in = X[col_in]\n",
    "X_train_in = X_train[col_in]\n",
    "X_test_in = X_test[col_in]\n"
   ]
  },
  {
   "cell_type": "code",
   "execution_count": 235,
   "metadata": {
    "ExecuteTime": {
     "end_time": "2018-08-07T22:44:08.813860Z",
     "start_time": "2018-08-07T22:44:05.723586Z"
    }
   },
   "outputs": [],
   "source": [
    "X_SMOTE_all, y_SMOTE_all = SMOTE(random_state=42).fit_sample(X_in,y)"
   ]
  },
  {
   "cell_type": "code",
   "execution_count": 236,
   "metadata": {
    "ExecuteTime": {
     "end_time": "2018-08-07T22:52:03.335997Z",
     "start_time": "2018-08-07T22:44:09.054025Z"
    }
   },
   "outputs": [
    {
     "name": "stdout",
     "output_type": "stream",
     "text": [
      "0.9999500870894232\n"
     ]
    }
   ],
   "source": [
    "rf = RandomForestClassifier(max_leaf_nodes=5000000, max_depth=50, n_estimators=200)\n",
    "rf.fit(X_SMOTE_all, y_SMOTE_all)\n",
    "y_pred = rf.predict(X_in)\n",
    "print(accuracy_score(y_pred, y))"
   ]
  },
  {
   "cell_type": "code",
   "execution_count": 237,
   "metadata": {
    "ExecuteTime": {
     "end_time": "2018-08-07T22:52:05.630446Z",
     "start_time": "2018-08-07T22:52:04.350951Z"
    }
   },
   "outputs": [
    {
     "name": "stdout",
     "output_type": "stream",
     "text": [
      "Recall for cover:\n",
      "Type 0:99.99760525748614\n",
      "Type 1:99.99302859582849\n",
      "Type 2:99.98986418001216\n"
     ]
    }
   ],
   "source": [
    "print(\"Recall for cover:\")\n",
    "for i in range(3):\n",
    "    print(\"Type \" + str(i)+ \":\" + str(100 * confusion_matrix(y, y_pred)[i,i]/len(y[y==(i)])))"
   ]
  },
  {
   "cell_type": "code",
   "execution_count": 238,
   "metadata": {
    "ExecuteTime": {
     "end_time": "2018-08-07T22:52:06.687998Z",
     "start_time": "2018-08-07T22:52:05.843283Z"
    }
   },
   "outputs": [
    {
     "name": "stdout",
     "output_type": "stream",
     "text": [
      "Precision for cover:\n",
      "Type 0:99.99657897437652\n",
      "Type 1:99.99607846554714\n",
      "Type 2:99.98310810810811\n"
     ]
    }
   ],
   "source": [
    "print(\"Precision for cover:\")\n",
    "for i in range(3):\n",
    "    print(\"Type \" + str(i)+ \":\" + str(100 * confusion_matrix(y, y_pred)[i,i]/len(y_pred[y_pred==(i)])))"
   ]
  },
  {
   "cell_type": "markdown",
   "metadata": {},
   "source": [
    "### Predictions and visualizations"
   ]
  },
  {
   "cell_type": "markdown",
   "metadata": {},
   "source": [
    "[\"Elevation\",\"Horizontal_Distance_To_Roadways\", \"Soil_Type\",\"Horizontal_Distance_To_Hydrology\",\"Vertical_Distance_To_Hydrology\"]"
   ]
  },
  {
   "cell_type": "code",
   "execution_count": 24,
   "metadata": {
    "ExecuteTime": {
     "end_time": "2018-08-07T18:15:09.975356Z",
     "start_time": "2018-08-07T18:15:09.893304Z"
    }
   },
   "outputs": [],
   "source": [
    "sca_all = StandardScaler()\n",
    "sca_all.fit_transform(X_in);"
   ]
  },
  {
   "cell_type": "code",
   "execution_count": 221,
   "metadata": {
    "ExecuteTime": {
     "end_time": "2018-08-07T20:59:28.555926Z",
     "start_time": "2018-08-07T20:59:28.535845Z"
    }
   },
   "outputs": [
    {
     "name": "stderr",
     "output_type": "stream",
     "text": [
      "/home/pnietoramos/anaconda3/lib/python3.6/site-packages/sklearn/utils/validation.py:475: DataConversionWarning: Data with input dtype int64 was converted to float64 by StandardScaler.\n",
      "  warnings.warn(msg, DataConversionWarning)\n"
     ]
    },
    {
     "data": {
      "text/plain": [
       "array([2])"
      ]
     },
     "execution_count": 221,
     "metadata": {},
     "output_type": "execute_result"
    }
   ],
   "source": [
    "#One random example\n",
    "example = np.array([2500, 750, 11, 800, 50])\n",
    "sca_all.transform(example.reshape(1,-1))\n",
    "rf.predict(example.reshape(1,-1))\n"
   ]
  },
  {
   "cell_type": "code",
   "execution_count": 247,
   "metadata": {
    "ExecuteTime": {
     "end_time": "2018-08-07T23:26:57.442165Z",
     "start_time": "2018-08-07T23:26:57.283076Z"
    }
   },
   "outputs": [],
   "source": [
    "example_2d = []\n",
    "for item_1 in range(0, 7000,10):\n",
    "    for item_2 in range(0, 1000,2):\n",
    "        example_2d.append([2500, item_1, 11, item_2, 50])"
   ]
  },
  {
   "cell_type": "code",
   "execution_count": 248,
   "metadata": {
    "ExecuteTime": {
     "end_time": "2018-08-07T23:27:02.111135Z",
     "start_time": "2018-08-07T23:26:57.713703Z"
    }
   },
   "outputs": [],
   "source": [
    "sca_all.transform(example_2d)\n",
    "fire = rf.predict(example_2d)"
   ]
  },
  {
   "cell_type": "code",
   "execution_count": 249,
   "metadata": {
    "ExecuteTime": {
     "end_time": "2018-08-07T23:27:02.510099Z",
     "start_time": "2018-08-07T23:27:02.319790Z"
    }
   },
   "outputs": [],
   "source": [
    "#Consider only high risk zones\n",
    "fire = [int(item==2) for item in fire]"
   ]
  },
  {
   "cell_type": "code",
   "execution_count": 253,
   "metadata": {
    "ExecuteTime": {
     "end_time": "2018-08-07T23:30:11.854442Z",
     "start_time": "2018-08-07T23:30:01.896847Z"
    }
   },
   "outputs": [
    {
     "data": {
      "image/png": "[encoded data removed]",
      "text/plain": [
       "<Figure size 1080x720 with 1 Axes>"
      ]
     },
     "metadata": {},
     "output_type": "display_data"
    }
   ],
   "source": [
    "plt.figure(figsize=(15,10))\n",
    "plt.scatter([item[1] for item in example_2d], [item[3] for item in example_2d], fire, c= \"r\")\n",
    "plt.tick_params(labelsize=20)\n",
    "plt.title(\"Elevation: 2500 m; Vertical distance to water: 50 m\")\n",
    "plt.xlabel(\"Distance to Roads [meters]\", fontsize = 30)\n",
    "plt.ylabel(\"Distance to Water sources [meters]\", fontsize = 30);\n",
    "plt.savefig(\"Prediction_fire\", dpi=200)\n"
   ]
  },
  {
   "cell_type": "code",
   "execution_count": null,
   "metadata": {},
   "outputs": [],
   "source": []
  }
 ],
 "metadata": {
  "kernelspec": {
   "display_name": "Python 3",
   "language": "python",
   "name": "python3"
  },
  "language_info": {
   "codemirror_mode": {
    "name": "ipython",
    "version": 3
   },
   "file_extension": ".py",
   "mimetype": "text/x-python",
   "name": "python",
   "nbconvert_exporter": "python",
   "pygments_lexer": "ipython3",
   "version": "3.6.4"
  },
  "varInspector": {
   "cols": {
    "lenName": 16,
    "lenType": 16,
    "lenVar": 40
   },
   "kernels_config": {
    "python": {
     "delete_cmd_postfix": "",
     "delete_cmd_prefix": "del ",
     "library": "var_list.py",
     "varRefreshCmd": "print(var_dic_list())"
    },
    "r": {
     "delete_cmd_postfix": ") ",
     "delete_cmd_prefix": "rm(",
     "library": "var_list.r",
     "varRefreshCmd": "cat(var_dic_list()) "
    }
   },
   "types_to_exclude": [
    "module",
    "function",
    "builtin_function_or_method",
    "instance",
    "_Feature"
   ],
   "window_display": false
  }
 },
 "nbformat": 4,
 "nbformat_minor": 2
}
