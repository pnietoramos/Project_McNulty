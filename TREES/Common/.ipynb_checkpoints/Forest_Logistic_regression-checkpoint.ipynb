{
 "cells": [
  {
   "cell_type": "code",
   "execution_count": 1,
   "metadata": {
    "ExecuteTime": {
     "end_time": "2018-08-03T04:16:10.856841Z",
     "start_time": "2018-08-03T04:16:03.830683Z"
    }
   },
   "outputs": [
    {
     "name": "stderr",
     "output_type": "stream",
     "text": [
      "/home/pnietoramos/anaconda3/lib/python3.6/site-packages/sklearn/cross_validation.py:41: DeprecationWarning: This module was deprecated in version 0.18 in favor of the model_selection module into which all the refactored classes and functions are moved. Also note that the interface of the new CV iterators are different from that of this module. This module will be removed in 0.20.\n",
      "  \"This module will be removed in 0.20.\", DeprecationWarning)\n"
     ]
    },
    {
     "data": {
      "text/html": [
       "<style>.container { width:95% !important; }</style>"
      ],
      "text/plain": [
       "<IPython.core.display.HTML object>"
      ]
     },
     "metadata": {},
     "output_type": "display_data"
    }
   ],
   "source": [
    "import pandas as pd\n",
    "import numpy as np\n",
    "import requests\n",
    "import pickle as pkl\n",
    "import matplotlib.pyplot as plt\n",
    "import seaborn as sns\n",
    "\n",
    "from sklearn.cross_validation import train_test_split\n",
    "from sklearn.metrics import accuracy_score, recall_score, precision_score, f1_score\n",
    "from sklearn.linear_model import LogisticRegression\n",
    "from sklearn.preprocessing import StandardScaler\n",
    "from sklearn.model_selection import GridSearchCV\n",
    "\n",
    "from sklearn.preprocessing import PolynomialFeatures\n",
    "\n",
    "import warnings\n",
    "warnings.filterwarnings(\"ignore\", category=DeprecationWarning)\n",
    "\n",
    "%matplotlib inline\n",
    "\n",
    "from IPython.core.display import display, HTML\n",
    "display(HTML(\"<style>.container { width:95% !important; }</style>\"))\n",
    "plt.style.use(\"seaborn\")"
   ]
  },
  {
   "cell_type": "markdown",
   "metadata": {},
   "source": [
    "### Defining Features and Classifier"
   ]
  },
  {
   "cell_type": "code",
   "execution_count": 2,
   "metadata": {
    "ExecuteTime": {
     "end_time": "2018-08-03T04:16:11.550924Z",
     "start_time": "2018-08-03T04:16:10.864343Z"
    }
   },
   "outputs": [],
   "source": [
    "df_common = pd.read_csv(\"Trees_common.csv\", index_col=False)"
   ]
  },
  {
   "cell_type": "code",
   "execution_count": 3,
   "metadata": {
    "ExecuteTime": {
     "end_time": "2018-08-03T04:16:11.623484Z",
     "start_time": "2018-08-03T04:16:11.606282Z"
    },
    "scrolled": true
   },
   "outputs": [
    {
     "data": {
      "text/html": [
       "<div>\n",
       "<style scoped>\n",
       "    .dataframe tbody tr th:only-of-type {\n",
       "        vertical-align: middle;\n",
       "    }\n",
       "\n",
       "    .dataframe tbody tr th {\n",
       "        vertical-align: top;\n",
       "    }\n",
       "\n",
       "    .dataframe thead th {\n",
       "        text-align: right;\n",
       "    }\n",
       "</style>\n",
       "<table border=\"1\" class=\"dataframe\">\n",
       "  <thead>\n",
       "    <tr style=\"text-align: right;\">\n",
       "      <th></th>\n",
       "      <th>Elevation</th>\n",
       "      <th>Aspect</th>\n",
       "      <th>Slope</th>\n",
       "      <th>Horizontal_Distance_To_Hydrology</th>\n",
       "      <th>Vertical_Distance_To_Hydrology</th>\n",
       "      <th>Horizontal_Distance_To_Roadways</th>\n",
       "      <th>Hillshade_9am</th>\n",
       "      <th>Hillshade_Noon</th>\n",
       "      <th>Hillshade_3pm</th>\n",
       "      <th>Horizontal_Distance_To_Fire_Points</th>\n",
       "      <th>Cover_Type</th>\n",
       "      <th>Soil_Type</th>\n",
       "    </tr>\n",
       "  </thead>\n",
       "  <tbody>\n",
       "    <tr>\n",
       "      <th>0</th>\n",
       "      <td>2596</td>\n",
       "      <td>51</td>\n",
       "      <td>3</td>\n",
       "      <td>258</td>\n",
       "      <td>0</td>\n",
       "      <td>510</td>\n",
       "      <td>221</td>\n",
       "      <td>232</td>\n",
       "      <td>148</td>\n",
       "      <td>6279</td>\n",
       "      <td>0</td>\n",
       "      <td>29</td>\n",
       "    </tr>\n",
       "  </tbody>\n",
       "</table>\n",
       "</div>"
      ],
      "text/plain": [
       "   Elevation  Aspect  Slope  Horizontal_Distance_To_Hydrology  \\\n",
       "0       2596      51      3                               258   \n",
       "\n",
       "   Vertical_Distance_To_Hydrology  Horizontal_Distance_To_Roadways  \\\n",
       "0                               0                              510   \n",
       "\n",
       "   Hillshade_9am  Hillshade_Noon  Hillshade_3pm  \\\n",
       "0            221             232            148   \n",
       "\n",
       "   Horizontal_Distance_To_Fire_Points  Cover_Type  Soil_Type  \n",
       "0                                6279           0         29  "
      ]
     },
     "execution_count": 3,
     "metadata": {},
     "output_type": "execute_result"
    }
   ],
   "source": [
    "df_common.head(1)"
   ]
  },
  {
   "cell_type": "code",
   "execution_count": 4,
   "metadata": {
    "ExecuteTime": {
     "end_time": "2018-08-03T04:16:11.797611Z",
     "start_time": "2018-08-03T04:16:11.649091Z"
    }
   },
   "outputs": [],
   "source": [
    "X = df_common.drop(\"Cover_Type\",axis=1)\n",
    "y = df_common[\"Cover_Type\"]"
   ]
  },
  {
   "cell_type": "code",
   "execution_count": 5,
   "metadata": {
    "ExecuteTime": {
     "end_time": "2018-08-03T04:16:12.169543Z",
     "start_time": "2018-08-03T04:16:11.826760Z"
    }
   },
   "outputs": [],
   "source": [
    "#Splitting the set (test = 0.3) in a stratified manner\n",
    "X_train, X_test, y_train, y_test = train_test_split(X, y, test_size=.30,stratify=y, random_state=4444)"
   ]
  },
  {
   "cell_type": "code",
   "execution_count": 6,
   "metadata": {
    "ExecuteTime": {
     "end_time": "2018-08-03T04:16:12.356300Z",
     "start_time": "2018-08-03T04:16:12.218357Z"
    }
   },
   "outputs": [],
   "source": [
    "#scaling the features\n",
    "sca = StandardScaler()\n",
    "X_train_sca = sca.fit_transform(X_train)\n",
    "X_test_sca = sca.transform(X_test);"
   ]
  },
  {
   "cell_type": "code",
   "execution_count": 7,
   "metadata": {
    "ExecuteTime": {
     "end_time": "2018-08-03T04:16:12.419957Z",
     "start_time": "2018-08-03T04:16:12.406102Z"
    }
   },
   "outputs": [],
   "source": [
    "# Scores for the test sets for an estimator\n",
    "def alg_class(estimator, X_train, y_train, X_test, y_test):\n",
    "    estimator.fit(X_train, y_train)\n",
    "    y_pred = estimator.predict(X_test)\n",
    "    acc = accuracy_score(y_pred,y_test)\n",
    "    rec = recall_score(y_pred,y_test)\n",
    "    prec = precision_score(y_pred,y_test)\n",
    "    f1 = f1_score(y_pred,y_test)\n",
    "    \n",
    "    return acc, rec, prec, f1\n",
    "    #return (\"Accuracy: \" + str(acc)), (\"Recall: \" + str(rec)), (\"Precision: \" + str(prec)), (\"F1: \" + str(f1))"
   ]
  },
  {
   "cell_type": "code",
   "execution_count": 8,
   "metadata": {
    "ExecuteTime": {
     "end_time": "2018-08-03T04:16:12.489261Z",
     "start_time": "2018-08-03T04:16:12.468817Z"
    }
   },
   "outputs": [],
   "source": [
    "def plot_scores(k, acc_, rec_, prec_, f1_):\n",
    "    fig, axes = plt.subplots(1, 4, figsize=(30,6))\n",
    "    axes[0].plot(k,acc_)\n",
    "    axes[0].set_xlabel(\"C\")\n",
    "    axes[0].set_ylabel(\"Accuracy\")\n",
    "\n",
    "    axes[1].plot(k,rec_)\n",
    "    axes[1].set_xlabel(\"C\")\n",
    "    axes[1].set_ylabel(\"Recall\")\n",
    "\n",
    "    axes[2].plot(k,prec_)\n",
    "    axes[2].set_xlabel(\"C\")\n",
    "    axes[2].set_ylabel(\"Precision\")\n",
    "\n",
    "    axes[3].plot(k,f1_)\n",
    "    axes[3].set_xlabel(\"C\")\n",
    "    axes[3].set_ylabel(\"F1\")\n"
   ]
  },
  {
   "cell_type": "code",
   "execution_count": 23,
   "metadata": {
    "ExecuteTime": {
     "end_time": "2018-08-03T04:33:56.509961Z",
     "start_time": "2018-08-03T04:33:49.188418Z"
    }
   },
   "outputs": [],
   "source": [
    "# Trying with logistic regression different regularization constants\n",
    "acc_ =[]\n",
    "rec_ =[]\n",
    "prec_ =[]\n",
    "f1_ =[]\n",
    "k_ = []\n",
    "C_ = [0.01, 0.1]\n",
    "for item in C_:\n",
    "    k_.append(item) \n",
    "    acc, rec, prec, f1 = alg_class(LogisticRegression(C=item), X_train_sca, y_train, X_test_sca, y_test)\n",
    "    acc_.append(acc)\n",
    "    rec_.append(rec)\n",
    "    prec_.append(prec)\n",
    "    f1_.append(f1)"
   ]
  },
  {
   "cell_type": "code",
   "execution_count": 24,
   "metadata": {
    "ExecuteTime": {
     "end_time": "2018-08-03T04:33:57.119027Z",
     "start_time": "2018-08-03T04:33:56.564080Z"
    }
   },
   "outputs": [
    {
     "data": {
      "image/png": "[encoded data removed]",
      "text/plain": [
       "<Figure size 2160x432 with 4 Axes>"
      ]
     },
     "metadata": {},
     "output_type": "display_data"
    }
   ],
   "source": [
    "plot_scores(k_, acc_, rec_, prec_, f1_)"
   ]
  },
  {
   "cell_type": "code",
   "execution_count": 27,
   "metadata": {
    "ExecuteTime": {
     "end_time": "2018-08-03T04:36:27.279247Z",
     "start_time": "2018-08-03T04:36:27.274334Z"
    }
   },
   "outputs": [
    {
     "data": {
      "text/plain": [
       "dict_keys(['C', 'class_weight', 'dual', 'fit_intercept', 'intercept_scaling', 'max_iter', 'multi_class', 'n_jobs', 'penalty', 'random_state', 'solver', 'tol', 'verbose', 'warm_start'])"
      ]
     },
     "execution_count": 27,
     "metadata": {},
     "output_type": "execute_result"
    }
   ],
   "source": [
    "LogisticRegression().get_params().keys()"
   ]
  },
  {
   "cell_type": "code",
   "execution_count": 35,
   "metadata": {
    "ExecuteTime": {
     "end_time": "2018-08-03T04:51:50.765454Z",
     "start_time": "2018-08-03T04:51:03.545946Z"
    }
   },
   "outputs": [
    {
     "data": {
      "text/plain": [
       "(0.6261015237745547,\n",
       " 0.6240268355571131,\n",
       " 0.5866101894340511,\n",
       " 0.6047403022731132)"
      ]
     },
     "execution_count": 35,
     "metadata": {},
     "output_type": "execute_result"
    }
   ],
   "source": [
    "alg_class(LogisticRegression(C=0.1,penalty='l1'), X_train_sca, y_train, X_test_sca, y_test)"
   ]
  },
  {
   "cell_type": "code",
   "execution_count": 38,
   "metadata": {
    "ExecuteTime": {
     "end_time": "2018-08-03T04:55:25.045438Z",
     "start_time": "2018-08-03T04:55:25.032945Z"
    }
   },
   "outputs": [],
   "source": [
    "#Now with cross validation and polynomial features\n",
    "def grid_estimator(estimator, param_grid, X_train, y_train, X_test, y_test, cv=5):\n",
    "    grid = GridSearchCV(estimator=estimator, param_grid=param_grid, cv=cv, n_jobs=1)\n",
    "    grid.fit(X_train, y_train)\n",
    "    y_pred = grid.predict(X_test)\n",
    "    print(\"Accuracy training: \" + str(grid.best_score_))\n",
    "    print(\"Accuracy test: \" + str(accuracy_score(y_pred,y_test)))\n",
    "    print(\"Recall test: \" + str(recall_score(y_pred,y_test)))\n",
    "    print(\"Precision test: \" + str(precision_score(y_pred,y_test)))\n",
    "    print(\"F1 score test: \" + str(f1_score(y_pred,y_test)))\n",
    "    print(grid.best_estimator_)"
   ]
  },
  {
   "cell_type": "code",
   "execution_count": 39,
   "metadata": {
    "ExecuteTime": {
     "end_time": "2018-08-03T05:32:19.392725Z",
     "start_time": "2018-08-03T04:55:25.948992Z"
    }
   },
   "outputs": [
    {
     "name": "stdout",
     "output_type": "stream",
     "text": [
      "Accuracy training: 0.6274255731384679\n",
      "Accuracy test: 0.6262392142463742\n",
      "Recall test: 0.6241086842302784\n",
      "Precision test: 0.5870102364984116\n",
      "F1 score test: 0.6049912689173457\n",
      "LogisticRegression(C=0.1, class_weight=None, dual=False, fit_intercept=True,\n",
      "          intercept_scaling=1, max_iter=100, multi_class='ovr', n_jobs=1,\n",
      "          penalty='l2', random_state=None, solver='liblinear', tol=0.0001,\n",
      "          verbose=0, warm_start=False)\n"
     ]
    }
   ],
   "source": [
    "param_grid = {'C': [0.01,0.1,1,10,100], 'penalty': ['l1','l2']}\n",
    "grid_estimator(LogisticRegression(), param_grid, X_train_sca, y_train, X_test_sca, y_test)"
   ]
  },
  {
   "cell_type": "code",
   "execution_count": null,
   "metadata": {
    "ExecuteTime": {
     "start_time": "2018-08-03T04:55:39.830Z"
    }
   },
   "outputs": [],
   "source": [
    "param_grid = {'C': [0.01,0.1,1,10,100], 'penalty': ['l1','l2']}\n",
    "#param_grid = {}\n",
    "poly = PolynomialFeatures(2)\n",
    "X_train_poly = poly.fit_transform(X_train_sca)\n",
    "X_test_poly = poly.fit_transform(X_test_sca)\n",
    "grid_estimator(LogisticRegression(), param_grid, X_train_poly, y_train, X_test_poly, y_test)"
   ]
  },
  {
   "cell_type": "code",
   "execution_count": null,
   "metadata": {
    "ExecuteTime": {
     "start_time": "2018-08-03T04:55:40.360Z"
    }
   },
   "outputs": [],
   "source": [
    "param_grid = {'C': [0.01,0.1,1,10,100], 'penalty': ['l1','l2']}\n",
    "poly = PolynomialFeatures(3)\n",
    "X_train_poly = poly.fit_transform(X_train_sca)\n",
    "X_test_poly = poly.fit_transform(X_test_sca)\n",
    "grid_estimator(LogisticRegression(), param_grid, X_train_poly, y_train, X_test_poly, y_test)"
   ]
  },
  {
   "cell_type": "code",
   "execution_count": null,
   "metadata": {
    "ExecuteTime": {
     "start_time": "2018-08-03T04:55:40.857Z"
    }
   },
   "outputs": [],
   "source": [
    "param_grid = {'C': [0.01,0.1,1,10,100], 'penalty': ['l1','l2']}\n",
    "poly = PolynomialFeatures(4)\n",
    "X_train_poly = poly.fit_transform(X_train_sca)\n",
    "X_test_poly = poly.fit_transform(X_test_sca)\n",
    "grid_estimator(LogisticRegression(), param_grid, X_train_poly, y_train, X_test_poly, y_test)"
   ]
  },
  {
   "cell_type": "code",
   "execution_count": null,
   "metadata": {},
   "outputs": [],
   "source": []
  }
 ],
 "metadata": {
  "kernelspec": {
   "display_name": "Python 3",
   "language": "python",
   "name": "python3"
  },
  "language_info": {
   "codemirror_mode": {
    "name": "ipython",
    "version": 3
   },
   "file_extension": ".py",
   "mimetype": "text/x-python",
   "name": "python",
   "nbconvert_exporter": "python",
   "pygments_lexer": "ipython3",
   "version": "3.6.4"
  },
  "varInspector": {
   "cols": {
    "lenName": 16,
    "lenType": 16,
    "lenVar": 40
   },
   "kernels_config": {
    "python": {
     "delete_cmd_postfix": "",
     "delete_cmd_prefix": "del ",
     "library": "var_list.py",
     "varRefreshCmd": "print(var_dic_list())"
    },
    "r": {
     "delete_cmd_postfix": ") ",
     "delete_cmd_prefix": "rm(",
     "library": "var_list.r",
     "varRefreshCmd": "cat(var_dic_list()) "
    }
   },
   "types_to_exclude": [
    "module",
    "function",
    "builtin_function_or_method",
    "instance",
    "_Feature"
   ],
   "window_display": false
  }
 },
 "nbformat": 4,
 "nbformat_minor": 2
}
