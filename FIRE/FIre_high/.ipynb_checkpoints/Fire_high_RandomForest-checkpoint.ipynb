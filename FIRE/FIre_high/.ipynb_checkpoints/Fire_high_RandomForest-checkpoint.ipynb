{
 "cells": [
  {
   "cell_type": "code",
   "execution_count": 1,
   "metadata": {
    "ExecuteTime": {
     "end_time": "2018-08-08T14:22:34.820225Z",
     "start_time": "2018-08-08T14:22:28.157562Z"
    }
   },
   "outputs": [
    {
     "name": "stderr",
     "output_type": "stream",
     "text": [
      "/home/pnietoramos/anaconda3/lib/python3.6/site-packages/sklearn/cross_validation.py:41: DeprecationWarning: This module was deprecated in version 0.18 in favor of the model_selection module into which all the refactored classes and functions are moved. Also note that the interface of the new CV iterators are different from that of this module. This module will be removed in 0.20.\n",
      "  \"This module will be removed in 0.20.\", DeprecationWarning)\n"
     ]
    },
    {
     "data": {
      "text/html": [
       "<style>.container { width:95% !important; }</style>"
      ],
      "text/plain": [
       "<IPython.core.display.HTML object>"
      ]
     },
     "metadata": {},
     "output_type": "display_data"
    }
   ],
   "source": [
    "import pandas as pd\n",
    "import numpy as np\n",
    "import requests\n",
    "import pickle as pkl\n",
    "import matplotlib.pyplot as plt\n",
    "import seaborn as sns\n",
    "\n",
    "from sklearn.cross_validation import train_test_split\n",
    "from sklearn.neighbors import KNeighborsClassifier\n",
    "from sklearn.metrics import accuracy_score, recall_score, precision_score, f1_score\n",
    "from sklearn.ensemble import RandomForestClassifier\n",
    "from sklearn.preprocessing import StandardScaler\n",
    "from sklearn.model_selection import GridSearchCV\n",
    "from sklearn.metrics import confusion_matrix\n",
    "\n",
    "from imblearn.over_sampling import RandomOverSampler, SMOTE, ADASYN\n",
    "\n",
    "\n",
    "import warnings\n",
    "warnings.filterwarnings(\"ignore\", category=DeprecationWarning)\n",
    "\n",
    "%matplotlib inline\n",
    "\n",
    "from IPython.core.display import display, HTML\n",
    "display(HTML(\"<style>.container { width:95% !important; }</style>\"))\n",
    "plt.style.use(\"seaborn\")"
   ]
  },
  {
   "cell_type": "markdown",
   "metadata": {},
   "source": [
    "### Defining Features and Classifier"
   ]
  },
  {
   "cell_type": "code",
   "execution_count": 2,
   "metadata": {
    "ExecuteTime": {
     "end_time": "2018-08-08T14:22:35.473101Z",
     "start_time": "2018-08-08T14:22:34.827172Z"
    }
   },
   "outputs": [],
   "source": [
    "df_high = pd.read_csv(\"Fire_high.csv\", index_col=False)"
   ]
  },
  {
   "cell_type": "code",
   "execution_count": 3,
   "metadata": {
    "ExecuteTime": {
     "end_time": "2018-08-08T14:22:35.553511Z",
     "start_time": "2018-08-08T14:22:35.533752Z"
    },
    "scrolled": true
   },
   "outputs": [
    {
     "data": {
      "text/html": [
       "<div>\n",
       "<style scoped>\n",
       "    .dataframe tbody tr th:only-of-type {\n",
       "        vertical-align: middle;\n",
       "    }\n",
       "\n",
       "    .dataframe tbody tr th {\n",
       "        vertical-align: top;\n",
       "    }\n",
       "\n",
       "    .dataframe thead th {\n",
       "        text-align: right;\n",
       "    }\n",
       "</style>\n",
       "<table border=\"1\" class=\"dataframe\">\n",
       "  <thead>\n",
       "    <tr style=\"text-align: right;\">\n",
       "      <th></th>\n",
       "      <th>Elevation</th>\n",
       "      <th>Aspect</th>\n",
       "      <th>Slope</th>\n",
       "      <th>Horizontal_Distance_To_Hydrology</th>\n",
       "      <th>Vertical_Distance_To_Hydrology</th>\n",
       "      <th>Horizontal_Distance_To_Roadways</th>\n",
       "      <th>Hillshade_9am</th>\n",
       "      <th>Hillshade_Noon</th>\n",
       "      <th>Hillshade_3pm</th>\n",
       "      <th>Horizontal_Distance_To_Fire_Points</th>\n",
       "      <th>Cover_Type</th>\n",
       "      <th>Soil_Type</th>\n",
       "    </tr>\n",
       "  </thead>\n",
       "  <tbody>\n",
       "    <tr>\n",
       "      <th>0</th>\n",
       "      <td>2596</td>\n",
       "      <td>51</td>\n",
       "      <td>3</td>\n",
       "      <td>258</td>\n",
       "      <td>0</td>\n",
       "      <td>510</td>\n",
       "      <td>221</td>\n",
       "      <td>232</td>\n",
       "      <td>148</td>\n",
       "      <td>0</td>\n",
       "      <td>5</td>\n",
       "      <td>29</td>\n",
       "    </tr>\n",
       "  </tbody>\n",
       "</table>\n",
       "</div>"
      ],
      "text/plain": [
       "   Elevation  Aspect  Slope  Horizontal_Distance_To_Hydrology  \\\n",
       "0       2596      51      3                               258   \n",
       "\n",
       "   Vertical_Distance_To_Hydrology  Horizontal_Distance_To_Roadways  \\\n",
       "0                               0                              510   \n",
       "\n",
       "   Hillshade_9am  Hillshade_Noon  Hillshade_3pm  \\\n",
       "0            221             232            148   \n",
       "\n",
       "   Horizontal_Distance_To_Fire_Points  Cover_Type  Soil_Type  \n",
       "0                                   0           5         29  "
      ]
     },
     "execution_count": 3,
     "metadata": {},
     "output_type": "execute_result"
    }
   ],
   "source": [
    "df_high.head(1)"
   ]
  },
  {
   "cell_type": "code",
   "execution_count": 4,
   "metadata": {
    "ExecuteTime": {
     "end_time": "2018-08-08T14:22:35.688653Z",
     "start_time": "2018-08-08T14:22:35.575352Z"
    }
   },
   "outputs": [],
   "source": [
    "X = df_high.drop(\"Horizontal_Distance_To_Fire_Points\",axis=1)\n",
    "y = df_high[\"Horizontal_Distance_To_Fire_Points\"]"
   ]
  },
  {
   "cell_type": "code",
   "execution_count": 5,
   "metadata": {
    "ExecuteTime": {
     "end_time": "2018-08-08T14:22:36.128924Z",
     "start_time": "2018-08-08T14:22:35.719801Z"
    }
   },
   "outputs": [],
   "source": [
    "#Splitting the set (test = 0.3) in a stratified manner\n",
    "X_train, X_test, y_train, y_test = train_test_split(X, y, test_size=.30,stratify=y, random_state=4444)"
   ]
  },
  {
   "cell_type": "code",
   "execution_count": 6,
   "metadata": {
    "ExecuteTime": {
     "end_time": "2018-08-08T14:22:36.355467Z",
     "start_time": "2018-08-08T14:22:36.191013Z"
    }
   },
   "outputs": [],
   "source": [
    "#scaling the features\n",
    "sca = StandardScaler()\n",
    "sca.fit_transform(X_train)\n",
    "sca.transform(X_test);"
   ]
  },
  {
   "cell_type": "code",
   "execution_count": 7,
   "metadata": {
    "ExecuteTime": {
     "end_time": "2018-08-08T14:22:36.410432Z",
     "start_time": "2018-08-08T14:22:36.405827Z"
    }
   },
   "outputs": [
    {
     "data": {
      "text/plain": [
       "dict_keys(['bootstrap', 'class_weight', 'criterion', 'max_depth', 'max_features', 'max_leaf_nodes', 'min_impurity_decrease', 'min_impurity_split', 'min_samples_leaf', 'min_samples_split', 'min_weight_fraction_leaf', 'n_estimators', 'n_jobs', 'oob_score', 'random_state', 'verbose', 'warm_start'])"
      ]
     },
     "execution_count": 7,
     "metadata": {},
     "output_type": "execute_result"
    }
   ],
   "source": [
    "RandomForestClassifier().get_params().keys()"
   ]
  },
  {
   "cell_type": "code",
   "execution_count": 8,
   "metadata": {
    "ExecuteTime": {
     "end_time": "2018-08-08T14:22:36.484701Z",
     "start_time": "2018-08-08T14:22:36.469808Z"
    }
   },
   "outputs": [],
   "source": [
    "def grid_estimator(estimator, param_grid, X_train, y_train, X_test, y_test, cv=5):\n",
    "    grid = GridSearchCV(estimator=estimator, param_grid=param_grid, cv=cv, n_jobs=1)\n",
    "    grid.fit(X_train, y_train)\n",
    "    print(\"Accuracy training: \" + str(grid.best_score_))\n",
    "    y_pred = grid.predict(X_test)\n",
    "    print(\"Accuracy test: \" + str(accuracy_score(y_pred,y_test)))\n",
    "    print(\"Recall test: \" + str(recall_score(y_pred,y_test)))\n",
    "    print(\"Precision test: \" + str(precision_score(y_pred,y_test)))\n",
    "    print(\"F1 score test: \" + str(f1_score(y_pred,y_test)))\n",
    "    print(grid.best_estimator_)\n"
   ]
  },
  {
   "cell_type": "code",
   "execution_count": 17,
   "metadata": {
    "ExecuteTime": {
     "end_time": "2018-08-08T14:31:03.805181Z",
     "start_time": "2018-08-08T14:31:03.796109Z"
    }
   },
   "outputs": [],
   "source": [
    "def conf_trees(y, y_pred):\n",
    "    trees_confusion = confusion_matrix(y, y_pred)\n",
    "    plt.figure(dpi=180)\n",
    "    sns.heatmap(trees_confusion, cmap=plt.cm.Blues, annot=True, annot_kws={\"size\": 16}, square=True, fmt='d',\n",
    "               xticklabels=[\"0\",\"2\"],\n",
    "               yticklabels=[\"0\",\"2\"]);\n",
    "    plt.tick_params(axis=\"both\", labelsize=14)\n",
    "    plt.xlabel('prediction', fontsize = 14)\n",
    "    plt.ylabel('actual', fontsize = 14);"
   ]
  },
  {
   "cell_type": "markdown",
   "metadata": {},
   "source": [
    "### Hyperparameter tunning"
   ]
  },
  {
   "cell_type": "code",
   "execution_count": 9,
   "metadata": {
    "ExecuteTime": {
     "end_time": "2018-08-04T23:05:44.748397Z",
     "start_time": "2018-08-04T23:04:46.982543Z"
    }
   },
   "outputs": [
    {
     "name": "stdout",
     "output_type": "stream",
     "text": [
      "Accuracy training: 0.9456342142274063\n",
      "Accuracy test: 0.9538335322195705\n",
      "Recall test: 0.9594729325536903\n",
      "Precision test: 0.8447686832740213\n",
      "F1 score test: 0.8984746596686894\n",
      "RandomForestClassifier(bootstrap=True, class_weight=None, criterion='gini',\n",
      "            max_depth=None, max_features='auto', max_leaf_nodes=None,\n",
      "            min_impurity_decrease=0.0, min_impurity_split=None,\n",
      "            min_samples_leaf=1, min_samples_split=2,\n",
      "            min_weight_fraction_leaf=0.0, n_estimators=10, n_jobs=1,\n",
      "            oob_score=False, random_state=None, verbose=0,\n",
      "            warm_start=False)\n"
     ]
    }
   ],
   "source": [
    "param_grid = {}\n",
    "grid_estimator(RandomForestClassifier(), param_grid, X_train, y_train, X_test, y_test)"
   ]
  },
  {
   "cell_type": "code",
   "execution_count": 10,
   "metadata": {
    "ExecuteTime": {
     "end_time": "2018-08-04T23:05:56.201899Z",
     "start_time": "2018-08-04T23:05:44.749932Z"
    }
   },
   "outputs": [
    {
     "data": {
      "text/plain": [
       "Elevation                           0.222499\n",
       "Aspect                              0.057983\n",
       "Slope                               0.040660\n",
       "Horizontal_Distance_To_Hydrology    0.076538\n",
       "Vertical_Distance_To_Hydrology      0.086907\n",
       "Horizontal_Distance_To_Roadways     0.192352\n",
       "Hillshade_9am                       0.048742\n",
       "Hillshade_Noon                      0.053034\n",
       "Hillshade_3pm                       0.052730\n",
       "Cover_Type                          0.050194\n",
       "Soil_Type                           0.118361\n",
       "dtype: float64"
      ]
     },
     "execution_count": 10,
     "metadata": {},
     "output_type": "execute_result"
    }
   ],
   "source": [
    "rf = RandomForestClassifier()\n",
    "rf.fit(X_train, y_train)\n",
    "feature_viewer = {}\n",
    "for col, score in zip(X.loc[:,:].columns, rf.feature_importances_):\n",
    "    feature_viewer[col] = score\n",
    "pd.Series(feature_viewer)"
   ]
  },
  {
   "cell_type": "code",
   "execution_count": 11,
   "metadata": {
    "ExecuteTime": {
     "end_time": "2018-08-04T23:05:56.206350Z",
     "start_time": "2018-08-04T23:05:56.203293Z"
    }
   },
   "outputs": [
    {
     "data": {
      "text/plain": [
       "Index(['Elevation', 'Aspect', 'Slope', 'Horizontal_Distance_To_Hydrology',\n",
       "       'Vertical_Distance_To_Hydrology', 'Horizontal_Distance_To_Roadways',\n",
       "       'Hillshade_9am', 'Hillshade_Noon', 'Hillshade_3pm', 'Cover_Type',\n",
       "       'Soil_Type'],\n",
       "      dtype='object')"
      ]
     },
     "execution_count": 11,
     "metadata": {},
     "output_type": "execute_result"
    }
   ],
   "source": [
    "X_train.columns"
   ]
  },
  {
   "cell_type": "code",
   "execution_count": 13,
   "metadata": {
    "ExecuteTime": {
     "end_time": "2018-08-04T23:07:53.767008Z",
     "start_time": "2018-08-04T23:07:18.298138Z"
    }
   },
   "outputs": [
    {
     "name": "stdout",
     "output_type": "stream",
     "text": [
      "Accuracy training: 0.778964269205425\n",
      "Accuracy test: 0.7815483293556086\n",
      "Recall test: 0.5907652538218122\n",
      "Precision test: 0.3144721233689205\n",
      "F1 score test: 0.41045411615340543\n",
      "RandomForestClassifier(bootstrap=True, class_weight=None, criterion='gini',\n",
      "            max_depth=None, max_features='auto', max_leaf_nodes=None,\n",
      "            min_impurity_decrease=0.0, min_impurity_split=None,\n",
      "            min_samples_leaf=1, min_samples_split=2,\n",
      "            min_weight_fraction_leaf=0.0, n_estimators=10, n_jobs=1,\n",
      "            oob_score=False, random_state=None, verbose=0,\n",
      "            warm_start=False)\n"
     ]
    }
   ],
   "source": [
    "param_grid = {}\n",
    "col_out = [\"Elevation\",\"Horizontal_Distance_To_Roadways\", \"Soil_Type\"]\n",
    "X_train_out = X_train.drop(col_out, axis = 1)\n",
    "X_test_out = X_test.drop(col_out, axis = 1)\n",
    "grid_estimator(RandomForestClassifier(), param_grid, X_train_out, y_train, X_test_out, y_test)"
   ]
  },
  {
   "cell_type": "code",
   "execution_count": 10,
   "metadata": {
    "ExecuteTime": {
     "end_time": "2018-08-05T14:49:35.626077Z",
     "start_time": "2018-08-05T14:49:03.942367Z"
    }
   },
   "outputs": [
    {
     "name": "stdout",
     "output_type": "stream",
     "text": [
      "Accuracy training: 0.9421501421167029\n",
      "Accuracy test: 0.9480390581971727\n",
      "Recall test: 0.9358356380877124\n",
      "Precision test: 0.8429181494661921\n",
      "F1 score test: 0.8869500093615428\n",
      "RandomForestClassifier(bootstrap=True, class_weight=None, criterion='gini',\n",
      "            max_depth=None, max_features='auto', max_leaf_nodes=None,\n",
      "            min_impurity_decrease=0.0, min_impurity_split=None,\n",
      "            min_samples_leaf=1, min_samples_split=2,\n",
      "            min_weight_fraction_leaf=0.0, n_estimators=10, n_jobs=1,\n",
      "            oob_score=False, random_state=None, verbose=0,\n",
      "            warm_start=False)\n"
     ]
    }
   ],
   "source": [
    "#Droping feature importances < 0.7\n",
    "param_grid = {}\n",
    "col_in = [\"Elevation\",\"Horizontal_Distance_To_Roadways\", \"Soil_Type\",\n",
    "          \"Horizontal_Distance_To_Hydrology\",\"Vertical_Distance_To_Hydrology\"]\n",
    "X_train_in = X_train[col_in]\n",
    "X_test_in = X_test[col_in]\n",
    "grid_estimator(RandomForestClassifier(), param_grid, X_train_in, y_train, X_test_in, y_test)"
   ]
  },
  {
   "cell_type": "code",
   "execution_count": 24,
   "metadata": {
    "ExecuteTime": {
     "end_time": "2018-08-06T16:20:30.294154Z",
     "start_time": "2018-08-06T15:43:30.994515Z"
    }
   },
   "outputs": [
    {
     "name": "stdout",
     "output_type": "stream",
     "text": [
      "Accuracy training: 0.952737590605545\n",
      "Accuracy test: 0.9562947494033412\n",
      "Recall test: 0.9355261830289577\n",
      "Precision test: 0.8799051008303678\n",
      "F1 score test: 0.906863584125975\n",
      "RandomForestClassifier(bootstrap=True, class_weight=None, criterion='gini',\n",
      "            max_depth=50, max_features='auto', max_leaf_nodes=10000000,\n",
      "            min_impurity_decrease=0.0, min_impurity_split=None,\n",
      "            min_samples_leaf=1, min_samples_split=2,\n",
      "            min_weight_fraction_leaf=0.0, n_estimators=100, n_jobs=1,\n",
      "            oob_score=False, random_state=None, verbose=0,\n",
      "            warm_start=False)\n"
     ]
    }
   ],
   "source": [
    "param_grid = {'n_estimators': [10,100], 'max_depth': [50,100], 'max_leaf_nodes':[100000,1000000,10000000]}\n",
    "grid_estimator(RandomForestClassifier(), param_grid, X_train_in, y_train, X_test_in, y_test)"
   ]
  },
  {
   "cell_type": "code",
   "execution_count": 25,
   "metadata": {
    "ExecuteTime": {
     "end_time": "2018-08-06T19:00:21.658292Z",
     "start_time": "2018-08-06T17:16:43.001526Z"
    }
   },
   "outputs": [
    {
     "name": "stdout",
     "output_type": "stream",
     "text": [
      "Accuracy training: 0.9531088643449355\n",
      "Accuracy test: 0.9568684597025886\n",
      "Recall test: 0.9359955685366099\n",
      "Precision test: 0.8819454329774614\n",
      "F1 score test: 0.9081670046173014\n",
      "RandomForestClassifier(bootstrap=True, class_weight=None, criterion='gini',\n",
      "            max_depth=100, max_features='auto', max_leaf_nodes=10000000,\n",
      "            min_impurity_decrease=0.0, min_impurity_split=None,\n",
      "            min_samples_leaf=1, min_samples_split=2,\n",
      "            min_weight_fraction_leaf=0.0, n_estimators=200, n_jobs=1,\n",
      "            oob_score=False, random_state=None, verbose=0,\n",
      "            warm_start=False)\n"
     ]
    }
   ],
   "source": [
    "param_grid = {'n_estimators': [100,200], 'max_depth': [50,100], 'max_leaf_nodes':[5000000, 10000000, 15000000]}\n",
    "grid_estimator(RandomForestClassifier(), param_grid, X_train_in, y_train, X_test_in, y_test)"
   ]
  },
  {
   "cell_type": "markdown",
   "metadata": {},
   "source": [
    "### Oversampling with best model with SMOTE"
   ]
  },
  {
   "cell_type": "code",
   "execution_count": 20,
   "metadata": {
    "ExecuteTime": {
     "end_time": "2018-08-08T14:39:49.108731Z",
     "start_time": "2018-08-08T14:39:47.224450Z"
    }
   },
   "outputs": [],
   "source": [
    "col_in = [\"Elevation\",\"Horizontal_Distance_To_Roadways\", \"Soil_Type\",\n",
    "          \"Horizontal_Distance_To_Hydrology\",\"Vertical_Distance_To_Hydrology\"]\n",
    "X_in = X[col_in]\n",
    "X_train_in = X_train[col_in]\n",
    "X_test_in = X_test[col_in]\n",
    "X_smoted, y_smoted = SMOTE(random_state=42).fit_sample(X_train_in,y_train)"
   ]
  },
  {
   "cell_type": "code",
   "execution_count": 12,
   "metadata": {
    "ExecuteTime": {
     "end_time": "2018-08-08T14:30:50.844203Z",
     "start_time": "2018-08-08T14:24:06.694693Z"
    }
   },
   "outputs": [],
   "source": [
    "rf = RandomForestClassifier(max_leaf_nodes=10000000, max_depth=100, n_estimators=200)\n",
    "rf.fit(X_smoted, y_smoted)\n",
    "y_pred = rf.predict(X_test_in)"
   ]
  },
  {
   "cell_type": "code",
   "execution_count": 18,
   "metadata": {
    "ExecuteTime": {
     "end_time": "2018-08-08T14:31:11.262630Z",
     "start_time": "2018-08-08T14:31:10.990253Z"
    }
   },
   "outputs": [
    {
     "data": {
      "image/png": "[encoded data removed]",
      "text/plain": [
       "<Figure size 1080x720 with 2 Axes>"
      ]
     },
     "metadata": {},
     "output_type": "display_data"
    }
   ],
   "source": [
    "conf_trees(y_test, y_pred)"
   ]
  },
  {
   "cell_type": "code",
   "execution_count": 15,
   "metadata": {
    "ExecuteTime": {
     "end_time": "2018-08-08T14:30:52.674563Z",
     "start_time": "2018-08-08T14:30:52.377768Z"
    }
   },
   "outputs": [
    {
     "name": "stdout",
     "output_type": "stream",
     "text": [
      "Recall for cover:\n",
      "Type 0:96.9883620624423\n",
      "Type 1:91.926453143535\n"
     ]
    }
   ],
   "source": [
    "print(\"Recall for cover:\")\n",
    "for i in range(2):\n",
    "    print(\"Type \" + str(i)+ \":\" + str(100 * confusion_matrix(y_test, y_pred)[i,i]/len(y_test[y_test==(i)])))"
   ]
  },
  {
   "cell_type": "code",
   "execution_count": 19,
   "metadata": {
    "ExecuteTime": {
     "end_time": "2018-08-08T14:31:20.418452Z",
     "start_time": "2018-08-08T14:31:20.203021Z"
    }
   },
   "outputs": [
    {
     "name": "stdout",
     "output_type": "stream",
     "text": [
      "Precision for cover:\n",
      "Type 0:97.4136817224895\n",
      "Type 1:90.68504692583144\n"
     ]
    }
   ],
   "source": [
    "print(\"Precision for cover:\")\n",
    "for i in range(2):\n",
    "    print(\"Type \" + str(i)+ \":\" + str(100 * confusion_matrix(y_test, y_pred)[i,i]/len(y_pred[y_pred==(i)])))"
   ]
  },
  {
   "cell_type": "markdown",
   "metadata": {},
   "source": [
    "### Fitting with the whole data set"
   ]
  },
  {
   "cell_type": "code",
   "execution_count": 21,
   "metadata": {
    "ExecuteTime": {
     "end_time": "2018-08-08T14:42:02.381873Z",
     "start_time": "2018-08-08T14:42:00.205160Z"
    }
   },
   "outputs": [],
   "source": [
    "X_SMOTE_all, y_SMOTE_all = SMOTE(random_state=42).fit_sample(X_in,y)"
   ]
  },
  {
   "cell_type": "code",
   "execution_count": 22,
   "metadata": {
    "ExecuteTime": {
     "end_time": "2018-08-08T14:49:35.126452Z",
     "start_time": "2018-08-08T14:42:02.453271Z"
    }
   },
   "outputs": [],
   "source": [
    "rf = RandomForestClassifier(max_leaf_nodes=10000000, max_depth=100, n_estimators=200)\n",
    "rf.fit(X_SMOTE_all, y_SMOTE_all)\n",
    "y_pred = rf.predict(X_in)"
   ]
  },
  {
   "cell_type": "code",
   "execution_count": 23,
   "metadata": {
    "ExecuteTime": {
     "end_time": "2018-08-08T14:49:35.784878Z",
     "start_time": "2018-08-08T14:49:35.199337Z"
    }
   },
   "outputs": [
    {
     "data": {
      "image/png": "[encoded data removed]",
      "text/plain": [
       "<Figure size 1080x720 with 2 Axes>"
      ]
     },
     "metadata": {},
     "output_type": "display_data"
    }
   ],
   "source": [
    "conf_trees(y, y_pred)"
   ]
  },
  {
   "cell_type": "code",
   "execution_count": 24,
   "metadata": {
    "ExecuteTime": {
     "end_time": "2018-08-08T14:49:36.599170Z",
     "start_time": "2018-08-08T14:49:35.863127Z"
    }
   },
   "outputs": [
    {
     "name": "stdout",
     "output_type": "stream",
     "text": [
      "Recall for cover:\n",
      "Type 0:99.99614084551804\n",
      "Type 1:99.99430609034812\n"
     ]
    }
   ],
   "source": [
    "print(\"Recall for cover:\")\n",
    "for i in range(2):\n",
    "    print(\"Type \" + str(i)+ \":\" + str(100 * confusion_matrix(y, y_pred)[i,i]/len(y[y==(i)])))"
   ]
  },
  {
   "cell_type": "code",
   "execution_count": 26,
   "metadata": {
    "ExecuteTime": {
     "end_time": "2018-08-08T14:49:46.556928Z",
     "start_time": "2018-08-08T14:49:45.924656Z"
    }
   },
   "outputs": [
    {
     "name": "stdout",
     "output_type": "stream",
     "text": [
      "Precision for cover:\n",
      "Type 0:99.998183890198\n",
      "Type 1:99.98790121699523\n"
     ]
    }
   ],
   "source": [
    "print(\"Precision for cover:\")\n",
    "for i in range(2):\n",
    "    print(\"Type \" + str(i)+ \":\" + str(100 * confusion_matrix(y, y_pred)[i,i]/len(y_pred[y_pred==(i)])))"
   ]
  },
  {
   "cell_type": "code",
   "execution_count": null,
   "metadata": {},
   "outputs": [],
   "source": []
  },
  {
   "cell_type": "code",
   "execution_count": null,
   "metadata": {},
   "outputs": [],
   "source": []
  }
 ],
 "metadata": {
  "kernelspec": {
   "display_name": "Python 3",
   "language": "python",
   "name": "python3"
  },
  "language_info": {
   "codemirror_mode": {
    "name": "ipython",
    "version": 3
   },
   "file_extension": ".py",
   "mimetype": "text/x-python",
   "name": "python",
   "nbconvert_exporter": "python",
   "pygments_lexer": "ipython3",
   "version": "3.6.4"
  },
  "varInspector": {
   "cols": {
    "lenName": 16,
    "lenType": 16,
    "lenVar": 40
   },
   "kernels_config": {
    "python": {
     "delete_cmd_postfix": "",
     "delete_cmd_prefix": "del ",
     "library": "var_list.py",
     "varRefreshCmd": "print(var_dic_list())"
    },
    "r": {
     "delete_cmd_postfix": ") ",
     "delete_cmd_prefix": "rm(",
     "library": "var_list.r",
     "varRefreshCmd": "cat(var_dic_list()) "
    }
   },
   "types_to_exclude": [
    "module",
    "function",
    "builtin_function_or_method",
    "instance",
    "_Feature"
   ],
   "window_display": false
  }
 },
 "nbformat": 4,
 "nbformat_minor": 2
}
