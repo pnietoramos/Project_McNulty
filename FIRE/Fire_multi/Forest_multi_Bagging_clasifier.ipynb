{
 "cells": [
  {
   "cell_type": "code",
   "execution_count": 1,
   "metadata": {
    "ExecuteTime": {
     "end_time": "2018-08-12T19:28:11.038165Z",
     "start_time": "2018-08-12T19:28:10.245491Z"
    }
   },
   "outputs": [
    {
     "name": "stderr",
     "output_type": "stream",
     "text": [
      "/home/pnietoramos/anaconda3/lib/python3.6/site-packages/sklearn/cross_validation.py:41: DeprecationWarning: This module was deprecated in version 0.18 in favor of the model_selection module into which all the refactored classes and functions are moved. Also note that the interface of the new CV iterators are different from that of this module. This module will be removed in 0.20.\n",
      "  \"This module will be removed in 0.20.\", DeprecationWarning)\n"
     ]
    },
    {
     "data": {
      "text/html": [
       "<style>.container { width:95% !important; }</style>"
      ],
      "text/plain": [
       "<IPython.core.display.HTML object>"
      ]
     },
     "metadata": {},
     "output_type": "display_data"
    }
   ],
   "source": [
    "import pandas as pd\n",
    "import numpy as np\n",
    "import requests\n",
    "import pickle as pkl\n",
    "import matplotlib.pyplot as plt\n",
    "import seaborn as sns\n",
    "\n",
    "from sklearn.cross_validation import train_test_split\n",
    "from sklearn.neighbors import KNeighborsClassifier\n",
    "from sklearn.metrics import accuracy_score, recall_score, precision_score, f1_score\n",
    "from sklearn.linear_model import LogisticRegression\n",
    "from sklearn.tree import DecisionTreeClassifier\n",
    "from sklearn.ensemble import RandomForestClassifier,BaggingClassifier\n",
    "from sklearn.preprocessing import StandardScaler\n",
    "from sklearn.model_selection import GridSearchCV\n",
    "\n",
    "from sklearn.metrics import confusion_matrix\n",
    "\n",
    "\n",
    "import warnings\n",
    "warnings.filterwarnings(\"ignore\", category=DeprecationWarning)\n",
    "\n",
    "%matplotlib inline\n",
    "\n",
    "from IPython.core.display import display, HTML\n",
    "display(HTML(\"<style>.container { width:95% !important; }</style>\"))\n",
    "plt.style.use(\"seaborn\")"
   ]
  },
  {
   "cell_type": "markdown",
   "metadata": {},
   "source": [
    "### Defining Features and Classifier"
   ]
  },
  {
   "cell_type": "code",
   "execution_count": 2,
   "metadata": {
    "ExecuteTime": {
     "end_time": "2018-08-12T19:28:12.632270Z",
     "start_time": "2018-08-12T19:28:12.102277Z"
    }
   },
   "outputs": [],
   "source": [
    "df_multi = pd.read_csv(\"Fire_multi.csv\", index_col=False)"
   ]
  },
  {
   "cell_type": "code",
   "execution_count": 3,
   "metadata": {
    "ExecuteTime": {
     "end_time": "2018-08-12T19:28:13.159694Z",
     "start_time": "2018-08-12T19:28:13.148176Z"
    },
    "scrolled": true
   },
   "outputs": [
    {
     "data": {
      "text/html": [
       "<div>\n",
       "<style scoped>\n",
       "    .dataframe tbody tr th:only-of-type {\n",
       "        vertical-align: middle;\n",
       "    }\n",
       "\n",
       "    .dataframe tbody tr th {\n",
       "        vertical-align: top;\n",
       "    }\n",
       "\n",
       "    .dataframe thead th {\n",
       "        text-align: right;\n",
       "    }\n",
       "</style>\n",
       "<table border=\"1\" class=\"dataframe\">\n",
       "  <thead>\n",
       "    <tr style=\"text-align: right;\">\n",
       "      <th></th>\n",
       "      <th>Elevation</th>\n",
       "      <th>Aspect</th>\n",
       "      <th>Slope</th>\n",
       "      <th>Horizontal_Distance_To_Hydrology</th>\n",
       "      <th>Vertical_Distance_To_Hydrology</th>\n",
       "      <th>Horizontal_Distance_To_Roadways</th>\n",
       "      <th>Hillshade_9am</th>\n",
       "      <th>Hillshade_Noon</th>\n",
       "      <th>Hillshade_3pm</th>\n",
       "      <th>Horizontal_Distance_To_Fire_Points</th>\n",
       "      <th>Cover_Type</th>\n",
       "      <th>Soil_Type</th>\n",
       "    </tr>\n",
       "  </thead>\n",
       "  <tbody>\n",
       "    <tr>\n",
       "      <th>0</th>\n",
       "      <td>2596</td>\n",
       "      <td>51</td>\n",
       "      <td>3</td>\n",
       "      <td>258</td>\n",
       "      <td>0</td>\n",
       "      <td>510</td>\n",
       "      <td>221</td>\n",
       "      <td>232</td>\n",
       "      <td>148</td>\n",
       "      <td>0</td>\n",
       "      <td>5</td>\n",
       "      <td>29</td>\n",
       "    </tr>\n",
       "  </tbody>\n",
       "</table>\n",
       "</div>"
      ],
      "text/plain": [
       "   Elevation  Aspect  Slope  Horizontal_Distance_To_Hydrology  \\\n",
       "0       2596      51      3                               258   \n",
       "\n",
       "   Vertical_Distance_To_Hydrology  Horizontal_Distance_To_Roadways  \\\n",
       "0                               0                              510   \n",
       "\n",
       "   Hillshade_9am  Hillshade_Noon  Hillshade_3pm  \\\n",
       "0            221             232            148   \n",
       "\n",
       "   Horizontal_Distance_To_Fire_Points  Cover_Type  Soil_Type  \n",
       "0                                   0           5         29  "
      ]
     },
     "execution_count": 3,
     "metadata": {},
     "output_type": "execute_result"
    }
   ],
   "source": [
    "df_multi.head(1)"
   ]
  },
  {
   "cell_type": "code",
   "execution_count": 4,
   "metadata": {
    "ExecuteTime": {
     "end_time": "2018-08-12T19:28:13.874654Z",
     "start_time": "2018-08-12T19:28:13.839338Z"
    }
   },
   "outputs": [],
   "source": [
    "X = df_multi.drop(\"Horizontal_Distance_To_Fire_Points\",axis=1)\n",
    "y = df_multi[\"Horizontal_Distance_To_Fire_Points\"]"
   ]
  },
  {
   "cell_type": "code",
   "execution_count": 5,
   "metadata": {
    "ExecuteTime": {
     "end_time": "2018-08-12T19:28:14.839882Z",
     "start_time": "2018-08-12T19:28:14.612937Z"
    }
   },
   "outputs": [],
   "source": [
    "#Splitting the set (test = 0.3) in a stratified manner\n",
    "X_train, X_test, y_train, y_test = train_test_split(X, y, test_size=.30,stratify=y, random_state=4444)"
   ]
  },
  {
   "cell_type": "code",
   "execution_count": 6,
   "metadata": {
    "ExecuteTime": {
     "end_time": "2018-08-12T19:28:16.237877Z",
     "start_time": "2018-08-12T19:28:16.073227Z"
    }
   },
   "outputs": [],
   "source": [
    "#scaling the features\n",
    "sca = StandardScaler()\n",
    "X_train_sca = sca.fit_transform(X_train)\n",
    "X_test_sca = sca.transform(X_test);"
   ]
  },
  {
   "cell_type": "code",
   "execution_count": 7,
   "metadata": {
    "ExecuteTime": {
     "end_time": "2018-08-12T19:28:17.422577Z",
     "start_time": "2018-08-12T19:28:17.417905Z"
    }
   },
   "outputs": [],
   "source": [
    "def alg_class(estimator, X_train, y_train, X_test, y_test):\n",
    "    estimator.fit(X_train, y_train)\n",
    "    y_pred = estimator.predict(X_test)\n",
    "    print(\"Accuracy_train: \" + str(estimator.score(X_train, y_train)))\n",
    "    print(\"Accuracy_test: \" + str(accuracy_score(y_pred,y_test)))    "
   ]
  },
  {
   "cell_type": "markdown",
   "metadata": {},
   "source": [
    "### Apply bagging classifier"
   ]
  },
  {
   "cell_type": "code",
   "execution_count": 12,
   "metadata": {
    "ExecuteTime": {
     "end_time": "2018-08-12T20:06:30.356879Z",
     "start_time": "2018-08-12T20:05:20.611873Z"
    },
    "scrolled": true
   },
   "outputs": [
    {
     "name": "stdout",
     "output_type": "stream",
     "text": [
      "Accuracy_train: 0.9975043520166803\n",
      "Accuracy_test: 0.9493069579585093\n"
     ]
    }
   ],
   "source": [
    "#Trying with default parameters\n",
    "alg_class(BaggingClassifier(base_estimator=DecisionTreeClassifier()), X_train_sca, y_train, X_test_sca, y_test)"
   ]
  },
  {
   "cell_type": "code",
   "execution_count": 13,
   "metadata": {
    "ExecuteTime": {
     "end_time": "2018-08-12T20:44:01.978570Z",
     "start_time": "2018-08-12T20:06:42.817011Z"
    }
   },
   "outputs": [],
   "source": [
    "acc_test_d = []\n",
    "acc_train_d = []\n",
    "depth_ = []\n",
    "for depth in range(1, 31) :\n",
    "    bg = BaggingClassifier(base_estimator=DecisionTreeClassifier(max_depth=depth), n_estimators=50, n_jobs=-1)\n",
    "    bg.fit(X_train_sca, y_train)\n",
    "    y_pred = bg.predict(X_test_sca)\n",
    "    acc_train_d.append(bg.score(X_train_sca, y_train))\n",
    "    acc_test_d.append(accuracy_score(y_pred,y_test))  \n",
    "    depth_.append(depth)"
   ]
  },
  {
   "cell_type": "code",
   "execution_count": 14,
   "metadata": {
    "ExecuteTime": {
     "end_time": "2018-08-12T20:44:02.378578Z",
     "start_time": "2018-08-12T20:44:02.077707Z"
    }
   },
   "outputs": [
    {
     "data": {
      "image/png": "[encoded data removed]",
      "text/plain": [
       "<Figure size 432x288 with 1 Axes>"
      ]
     },
     "metadata": {},
     "output_type": "display_data"
    }
   ],
   "source": [
    "plt.plot(depth_,acc_test_d,\"bo\")\n",
    "plt.plot(depth_,acc_train_d,\"go\");"
   ]
  },
  {
   "cell_type": "code",
   "execution_count": null,
   "metadata": {
    "ExecuteTime": {
     "start_time": "2018-08-12T20:46:31.607Z"
    }
   },
   "outputs": [],
   "source": [
    "acc_test_e = []\n",
    "acc_train_e = []\n",
    "n_estimators_ = []\n",
    "for n_estimators in range(10,220,20) :\n",
    "    bg = BaggingClassifier(base_estimator=DecisionTreeClassifier(max_depth=25), n_estimators=n_estimators, n_jobs=-1)\n",
    "    bg.fit(X_train_sca, y_train)\n",
    "    y_pred = bg.predict(X_test_sca)\n",
    "    acc_train_e.append(bg.score(X_train_sca, y_train))\n",
    "    acc_test_e.append(accuracy_score(y_pred,y_test))  \n",
    "    n_estimators_.append(n_estimators)"
   ]
  },
  {
   "cell_type": "code",
   "execution_count": null,
   "metadata": {
    "ExecuteTime": {
     "start_time": "2018-08-12T20:46:32.521Z"
    }
   },
   "outputs": [],
   "source": [
    "plt.plot(n_estimators_,acc_test_e,\"bo\")\n",
    "plt.plot(n_estimators_,acc_train_e,\"go\");"
   ]
  },
  {
   "cell_type": "code",
   "execution_count": null,
   "metadata": {
    "ExecuteTime": {
     "end_time": "2018-08-12T20:05:00.709369Z",
     "start_time": "2018-08-12T19:30:12.113Z"
    }
   },
   "outputs": [],
   "source": [
    "def grid_estimator(estimator, param_grid, X_train, y_train, X_test, y_test, cv=5):\n",
    "    grid = GridSearchCV(estimator=estimator, param_grid=param_grid, cv=cv, n_jobs=1)\n",
    "    grid.fit(X_train, y_train)\n",
    "    print(\"Accuracy training: \" + str(grid.best_score_))\n",
    "    y_pred = grid.predict(X_test)\n",
    "    print(\"Accuracy test: \" + str(accuracy_score(y_pred,y_test)))\n",
    "    print(grid.best_estimator_)"
   ]
  },
  {
   "cell_type": "markdown",
   "metadata": {},
   "source": [
    "### Selecting features determined to be important by Random Forest"
   ]
  },
  {
   "cell_type": "code",
   "execution_count": 11,
   "metadata": {
    "ExecuteTime": {
     "end_time": "2018-08-06T04:24:51.789412Z",
     "start_time": "2018-08-06T04:24:51.753194Z"
    }
   },
   "outputs": [],
   "source": [
    "col_in = [\"Elevation\",\"Horizontal_Distance_To_Roadways\", \"Soil_Type\",\n",
    "          \"Horizontal_Distance_To_Hydrology\",\"Vertical_Distance_To_Hydrology\"]\n",
    "X_in = X[col_in]\n",
    "X_train_in = X_train[col_in]\n",
    "X_test_in = X_test[col_in]"
   ]
  },
  {
   "cell_type": "code",
   "execution_count": null,
   "metadata": {},
   "outputs": [],
   "source": [
    "sca = StandardScaler()\n",
    "X_train_in_sca = sca.fit_transform(X_train_in)\n",
    "X_test_in_sca = sca.transform(X_test_in);"
   ]
  },
  {
   "cell_type": "code",
   "execution_count": 14,
   "metadata": {
    "ExecuteTime": {
     "end_time": "2018-08-05T23:01:30.125044Z",
     "start_time": "2018-08-05T22:56:12.544198Z"
    }
   },
   "outputs": [],
   "source": [
    "bg = BaggingClassifier(base_estimator=DecisionTreeClassifier(max_depth=30), n_estimators=200, n_jobs=1)\n",
    "bg.fit(X_train_in_sca, y_train)\n",
    "y_pred = bg.predict(X_test_in_sca)"
   ]
  },
  {
   "cell_type": "code",
   "execution_count": 19,
   "metadata": {
    "ExecuteTime": {
     "end_time": "2018-08-05T23:11:18.603562Z",
     "start_time": "2018-08-05T23:11:18.270539Z"
    }
   },
   "outputs": [
    {
     "name": "stdout",
     "output_type": "stream",
     "text": [
      "Recall for cover:\n",
      "Type 0:95.79893262783378\n",
      "Type 1:92.22110873890753\n",
      "Type 2:83.70966833718114\n"
     ]
    }
   ],
   "source": [
    "print(\"Recall for cover:\")\n",
    "for i in range(3):\n",
    "    print(\"Type \" + str(i)+ \":\" + str(100 * confusion_matrix(y_test, y_pred)[i,i]/len(y_test[y_test==(i)])))"
   ]
  },
  {
   "cell_type": "code",
   "execution_count": 20,
   "metadata": {
    "ExecuteTime": {
     "end_time": "2018-08-05T23:11:20.855112Z",
     "start_time": "2018-08-05T23:11:20.525643Z"
    }
   },
   "outputs": [
    {
     "name": "stdout",
     "output_type": "stream",
     "text": [
      "Precision for cover:\n",
      "Type 0:94.67290246238801\n",
      "Type 1:92.27471553340212\n",
      "Type 2:88.72045834328001\n"
     ]
    }
   ],
   "source": [
    "print(\"Precision for cover:\")\n",
    "for i in range(3):\n",
    "    print(\"Type \" + str(i)+ \":\" + str(100 * confusion_matrix(y_test, y_pred)[i,i]/len(y_pred[y_pred==(i)])))"
   ]
  },
  {
   "cell_type": "code",
   "execution_count": 12,
   "metadata": {
    "ExecuteTime": {
     "end_time": "2018-08-06T04:35:04.413585Z",
     "start_time": "2018-08-06T04:24:54.661751Z"
    }
   },
   "outputs": [],
   "source": [
    "bg = BaggingClassifier(base_estimator=DecisionTreeClassifier(max_depth=15), n_estimators=400, n_jobs=1)\n",
    "bg.fit(X_train_in_sca, y_train)\n",
    "y_pred = bg.predict(X_test_in_sca)"
   ]
  },
  {
   "cell_type": "code",
   "execution_count": 13,
   "metadata": {
    "ExecuteTime": {
     "end_time": "2018-08-06T04:35:05.003460Z",
     "start_time": "2018-08-06T04:35:04.573874Z"
    }
   },
   "outputs": [
    {
     "name": "stdout",
     "output_type": "stream",
     "text": [
      "Recall for cover:\n",
      "Type 0:92.84427313780049\n",
      "Type 1:77.40258231304374\n",
      "Type 2:55.712596429979165\n"
     ]
    }
   ],
   "source": [
    "print(\"Recall for cover:\")\n",
    "for i in range(3):\n",
    "    print(\"Type \" + str(i)+ \":\" + str(100 * confusion_matrix(y_test, y_pred)[i,i]/len(y_test[y_test==(i)])))"
   ]
  },
  {
   "cell_type": "code",
   "execution_count": 14,
   "metadata": {
    "ExecuteTime": {
     "end_time": "2018-08-06T04:35:05.561109Z",
     "start_time": "2018-08-06T04:35:05.156612Z"
    }
   },
   "outputs": [
    {
     "name": "stdout",
     "output_type": "stream",
     "text": [
      "Precision for cover:\n",
      "Type 0:81.97442609746275\n",
      "Type 1:83.97516702382453\n",
      "Type 2:85.88541666666667\n"
     ]
    }
   ],
   "source": [
    "print(\"Precision for cover:\")\n",
    "for i in range(3):\n",
    "    print(\"Type \" + str(i)+ \":\" + str(100 * confusion_matrix(y_test, y_pred)[i,i]/len(y_pred[y_pred==(i)])))"
   ]
  },
  {
   "cell_type": "code",
   "execution_count": 15,
   "metadata": {
    "ExecuteTime": {
     "end_time": "2018-08-06T04:59:45.236919Z",
     "start_time": "2018-08-06T04:48:33.048738Z"
    }
   },
   "outputs": [],
   "source": [
    "bg = BaggingClassifier(base_estimator=DecisionTreeClassifier(max_depth=200), n_estimators=400, n_jobs=1)\n",
    "bg.fit(X_train_in_sca, y_train)\n",
    "y_pred = bg.predict(X_test_in_sca)"
   ]
  },
  {
   "cell_type": "code",
   "execution_count": 16,
   "metadata": {
    "ExecuteTime": {
     "end_time": "2018-08-06T04:59:45.781551Z",
     "start_time": "2018-08-06T04:59:45.360364Z"
    }
   },
   "outputs": [
    {
     "name": "stdout",
     "output_type": "stream",
     "text": [
      "Recall for cover:\n",
      "Type 0:95.82744149979473\n",
      "Type 1:92.2646798251347\n",
      "Type 2:83.83354918632806\n"
     ]
    }
   ],
   "source": [
    "print(\"Recall for cover:\")\n",
    "for i in range(3):\n",
    "    print(\"Type \" + str(i)+ \":\" + str(100 * confusion_matrix(y_test, y_pred)[i,i]/len(y_test[y_test==(i)])))"
   ]
  },
  {
   "cell_type": "code",
   "execution_count": 17,
   "metadata": {
    "ExecuteTime": {
     "end_time": "2018-08-06T04:59:46.333103Z",
     "start_time": "2018-08-06T04:59:45.919369Z"
    }
   },
   "outputs": [
    {
     "name": "stdout",
     "output_type": "stream",
     "text": [
      "Precision for cover:\n",
      "Type 0:94.74271669522865\n",
      "Type 1:92.30221576462041\n",
      "Type 2:88.70881248882797\n"
     ]
    }
   ],
   "source": [
    "print(\"Precision for cover:\")\n",
    "for i in range(3):\n",
    "    print(\"Type \" + str(i)+ \":\" + str(100 * confusion_matrix(y_test, y_pred)[i,i]/len(y_pred[y_pred==(i)])))"
   ]
  },
  {
   "cell_type": "code",
   "execution_count": null,
   "metadata": {},
   "outputs": [],
   "source": []
  }
 ],
 "metadata": {
  "kernelspec": {
   "display_name": "Python 3",
   "language": "python",
   "name": "python3"
  },
  "language_info": {
   "codemirror_mode": {
    "name": "ipython",
    "version": 3
   },
   "file_extension": ".py",
   "mimetype": "text/x-python",
   "name": "python",
   "nbconvert_exporter": "python",
   "pygments_lexer": "ipython3",
   "version": "3.6.4"
  },
  "varInspector": {
   "cols": {
    "lenName": 16,
    "lenType": 16,
    "lenVar": 40
   },
   "kernels_config": {
    "python": {
     "delete_cmd_postfix": "",
     "delete_cmd_prefix": "del ",
     "library": "var_list.py",
     "varRefreshCmd": "print(var_dic_list())"
    },
    "r": {
     "delete_cmd_postfix": ") ",
     "delete_cmd_prefix": "rm(",
     "library": "var_list.r",
     "varRefreshCmd": "cat(var_dic_list()) "
    }
   },
   "types_to_exclude": [
    "module",
    "function",
    "builtin_function_or_method",
    "instance",
    "_Feature"
   ],
   "window_display": false
  }
 },
 "nbformat": 4,
 "nbformat_minor": 2
}
