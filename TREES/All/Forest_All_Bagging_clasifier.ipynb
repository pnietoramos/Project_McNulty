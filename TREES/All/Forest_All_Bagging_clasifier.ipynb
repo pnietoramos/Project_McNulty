{
 "cells": [
  {
   "cell_type": "code",
   "execution_count": 1,
   "metadata": {
    "ExecuteTime": {
     "end_time": "2018-08-04T05:48:36.879049Z",
     "start_time": "2018-08-04T05:48:36.076995Z"
    }
   },
   "outputs": [
    {
     "name": "stderr",
     "output_type": "stream",
     "text": [
      "/home/pnietoramos/anaconda3/lib/python3.6/site-packages/sklearn/cross_validation.py:41: DeprecationWarning: This module was deprecated in version 0.18 in favor of the model_selection module into which all the refactored classes and functions are moved. Also note that the interface of the new CV iterators are different from that of this module. This module will be removed in 0.20.\n",
      "  \"This module will be removed in 0.20.\", DeprecationWarning)\n"
     ]
    },
    {
     "data": {
      "text/html": [
       "<style>.container { width:95% !important; }</style>"
      ],
      "text/plain": [
       "<IPython.core.display.HTML object>"
      ]
     },
     "metadata": {},
     "output_type": "display_data"
    }
   ],
   "source": [
    "import pandas as pd\n",
    "import numpy as np\n",
    "import requests\n",
    "import pickle as pkl\n",
    "import matplotlib.pyplot as plt\n",
    "import seaborn as sns\n",
    "\n",
    "from sklearn.cross_validation import train_test_split\n",
    "from sklearn.neighbors import KNeighborsClassifier\n",
    "from sklearn.metrics import accuracy_score, recall_score, precision_score, f1_score\n",
    "from sklearn.linear_model import LogisticRegression\n",
    "from sklearn.naive_bayes import GaussianNB\n",
    "from sklearn.svm import SVC\n",
    "from sklearn.tree import DecisionTreeClassifier\n",
    "from sklearn.ensemble import RandomForestClassifier,BaggingClassifier\n",
    "from sklearn.preprocessing import StandardScaler\n",
    "from sklearn.model_selection import GridSearchCV\n",
    "\n",
    "\n",
    "import warnings\n",
    "warnings.filterwarnings(\"ignore\", category=DeprecationWarning)\n",
    "\n",
    "%matplotlib inline\n",
    "\n",
    "from IPython.core.display import display, HTML\n",
    "display(HTML(\"<style>.container { width:95% !important; }</style>\"))\n",
    "plt.style.use(\"seaborn\")"
   ]
  },
  {
   "cell_type": "markdown",
   "metadata": {},
   "source": [
    "### Defining Features and Classifier"
   ]
  },
  {
   "cell_type": "code",
   "execution_count": 2,
   "metadata": {
    "ExecuteTime": {
     "end_time": "2018-08-04T05:48:37.600226Z",
     "start_time": "2018-08-04T05:48:36.925585Z"
    }
   },
   "outputs": [],
   "source": [
    "df_all = pd.read_csv(\"Trees_clean.csv\", index_col=False)"
   ]
  },
  {
   "cell_type": "code",
   "execution_count": 3,
   "metadata": {
    "ExecuteTime": {
     "end_time": "2018-08-04T05:48:37.644323Z",
     "start_time": "2018-08-04T05:48:37.626807Z"
    },
    "scrolled": true
   },
   "outputs": [
    {
     "data": {
      "text/html": [
       "<div>\n",
       "<style scoped>\n",
       "    .dataframe tbody tr th:only-of-type {\n",
       "        vertical-align: middle;\n",
       "    }\n",
       "\n",
       "    .dataframe tbody tr th {\n",
       "        vertical-align: top;\n",
       "    }\n",
       "\n",
       "    .dataframe thead th {\n",
       "        text-align: right;\n",
       "    }\n",
       "</style>\n",
       "<table border=\"1\" class=\"dataframe\">\n",
       "  <thead>\n",
       "    <tr style=\"text-align: right;\">\n",
       "      <th></th>\n",
       "      <th>Elevation</th>\n",
       "      <th>Aspect</th>\n",
       "      <th>Slope</th>\n",
       "      <th>Horizontal_Distance_To_Hydrology</th>\n",
       "      <th>Vertical_Distance_To_Hydrology</th>\n",
       "      <th>Horizontal_Distance_To_Roadways</th>\n",
       "      <th>Hillshade_9am</th>\n",
       "      <th>Hillshade_Noon</th>\n",
       "      <th>Hillshade_3pm</th>\n",
       "      <th>Horizontal_Distance_To_Fire_Points</th>\n",
       "      <th>Cover_Type</th>\n",
       "      <th>Soil_Type</th>\n",
       "    </tr>\n",
       "  </thead>\n",
       "  <tbody>\n",
       "    <tr>\n",
       "      <th>0</th>\n",
       "      <td>2596</td>\n",
       "      <td>51</td>\n",
       "      <td>3</td>\n",
       "      <td>258</td>\n",
       "      <td>0</td>\n",
       "      <td>510</td>\n",
       "      <td>221</td>\n",
       "      <td>232</td>\n",
       "      <td>148</td>\n",
       "      <td>6279</td>\n",
       "      <td>5</td>\n",
       "      <td>29</td>\n",
       "    </tr>\n",
       "  </tbody>\n",
       "</table>\n",
       "</div>"
      ],
      "text/plain": [
       "   Elevation  Aspect  Slope  Horizontal_Distance_To_Hydrology  \\\n",
       "0       2596      51      3                               258   \n",
       "\n",
       "   Vertical_Distance_To_Hydrology  Horizontal_Distance_To_Roadways  \\\n",
       "0                               0                              510   \n",
       "\n",
       "   Hillshade_9am  Hillshade_Noon  Hillshade_3pm  \\\n",
       "0            221             232            148   \n",
       "\n",
       "   Horizontal_Distance_To_Fire_Points  Cover_Type  Soil_Type  \n",
       "0                                6279           5         29  "
      ]
     },
     "execution_count": 3,
     "metadata": {},
     "output_type": "execute_result"
    }
   ],
   "source": [
    "df_all.head(1)"
   ]
  },
  {
   "cell_type": "code",
   "execution_count": 4,
   "metadata": {
    "ExecuteTime": {
     "end_time": "2018-08-04T05:48:37.990446Z",
     "start_time": "2018-08-04T05:48:37.950405Z"
    }
   },
   "outputs": [],
   "source": [
    "X = df_all.drop(\"Cover_Type\",axis=1)\n",
    "y = df_all[\"Cover_Type\"]"
   ]
  },
  {
   "cell_type": "code",
   "execution_count": 5,
   "metadata": {
    "ExecuteTime": {
     "end_time": "2018-08-04T05:48:38.750395Z",
     "start_time": "2018-08-04T05:48:38.476393Z"
    }
   },
   "outputs": [],
   "source": [
    "#Splitting the set (test = 0.3) in a stratified manner\n",
    "X_train, X_test, y_train, y_test = train_test_split(X, y, test_size=.30,stratify=y, random_state=4444)"
   ]
  },
  {
   "cell_type": "code",
   "execution_count": 6,
   "metadata": {
    "ExecuteTime": {
     "end_time": "2018-08-04T05:48:39.155474Z",
     "start_time": "2018-08-04T05:48:38.900171Z"
    }
   },
   "outputs": [],
   "source": [
    "#scaling the features\n",
    "sca = StandardScaler()\n",
    "sca.fit_transform(X_train)\n",
    "sca.transform(X_test);"
   ]
  },
  {
   "cell_type": "code",
   "execution_count": 8,
   "metadata": {
    "ExecuteTime": {
     "end_time": "2018-08-04T05:48:49.632346Z",
     "start_time": "2018-08-04T05:48:49.627628Z"
    }
   },
   "outputs": [],
   "source": [
    "def alg_class(estimator, X_train, y_train, X_test, y_test):\n",
    "    estimator.fit(X_train, y_train)\n",
    "    y_pred = estimator.predict(X_test)\n",
    "    print(\"Accuracy_train: \" + str(estimator.score(X_train, y_train)))\n",
    "    print(\"Accuracy_test: \" + str(accuracy_score(y_pred,y_test)))    "
   ]
  },
  {
   "cell_type": "code",
   "execution_count": 14,
   "metadata": {
    "ExecuteTime": {
     "end_time": "2018-08-04T05:59:05.830517Z",
     "start_time": "2018-08-04T05:59:05.821563Z"
    }
   },
   "outputs": [],
   "source": [
    "def plot_scores_knn(k, acc_train, acc_test):\n",
    "    fig, axes = plt.subplots(1, 2, figsize=(30,6))\n",
    "    axes[0].plot(k,acc_train)\n",
    "    axes[0].set_xlabel(\"Depth\")\n",
    "    axes[0].set_ylabel(\"Accuracy train\")\n",
    "\n",
    "    axes[1].plot(k,acc_test)\n",
    "    axes[1].set_xlabel(\"Depth\")\n",
    "    axes[1].set_ylabel(\"Recall\")\n"
   ]
  },
  {
   "cell_type": "markdown",
   "metadata": {},
   "source": [
    "### Apply bagging classifier"
   ]
  },
  {
   "cell_type": "code",
   "execution_count": 9,
   "metadata": {
    "ExecuteTime": {
     "end_time": "2018-08-04T05:49:38.984847Z",
     "start_time": "2018-08-04T05:48:54.173578Z"
    },
    "scrolled": true
   },
   "outputs": [
    {
     "name": "stdout",
     "output_type": "stream",
     "text": [
      "Accuracy_train: 0.9978092390609479\n",
      "Accuracy_test: 0.9556808793831467\n"
     ]
    }
   ],
   "source": [
    "#Trying with default parameters\n",
    "alg_class(BaggingClassifier(base_estimator=DecisionTreeClassifier()), X_train, y_train, X_test, y_test)"
   ]
  },
  {
   "cell_type": "code",
   "execution_count": 22,
   "metadata": {
    "ExecuteTime": {
     "end_time": "2018-08-04T16:33:48.248071Z",
     "start_time": "2018-08-04T15:41:04.764526Z"
    }
   },
   "outputs": [],
   "source": [
    "acc_test_d = []\n",
    "acc_train_d = []\n",
    "depth_ = []\n",
    "for depth in range(1, 51) :\n",
    "    bg = BaggingClassifier(base_estimator=DecisionTreeClassifier(max_depth=depth), n_estimators=50, n_jobs=-1)\n",
    "    bg.fit(X_train, y_train)\n",
    "    y_pred = bg.predict(X_test)\n",
    "    acc_train_d.append(bg.score(X_train, y_train))\n",
    "    acc_test_d.append(accuracy_score(y_pred,y_test))  \n",
    "    depth_.append(depth)"
   ]
  },
  {
   "cell_type": "code",
   "execution_count": 23,
   "metadata": {
    "ExecuteTime": {
     "end_time": "2018-08-04T16:33:48.677401Z",
     "start_time": "2018-08-04T16:33:48.302443Z"
    }
   },
   "outputs": [
    {
     "data": {
      "text/plain": [
       "[<matplotlib.lines.Line2D at 0x7f74ed8459e8>]"
      ]
     },
     "execution_count": 23,
     "metadata": {},
     "output_type": "execute_result"
    },
    {
     "data": {
      "image/png": "[encoded data removed]",
      "text/plain": [
       "<Figure size 432x288 with 1 Axes>"
      ]
     },
     "metadata": {},
     "output_type": "display_data"
    }
   ],
   "source": [
    "plt.plot(depth_,acc_test_d,\"bo\")\n",
    "plt.plot(depth_,acc_train_d,\"go\")"
   ]
  },
  {
   "cell_type": "code",
   "execution_count": 24,
   "metadata": {
    "ExecuteTime": {
     "end_time": "2018-08-04T16:47:34.166958Z",
     "start_time": "2018-08-04T16:33:48.752514Z"
    }
   },
   "outputs": [],
   "source": [
    "acc_test_e = []\n",
    "acc_train_e = []\n",
    "n_estimators_ = []\n",
    "for n_estimators in range(10,110,10) :\n",
    "    bg = BaggingClassifier(base_estimator=DecisionTreeClassifier(max_depth=50), n_estimators=n_estimators, n_jobs=-1)\n",
    "    bg.fit(X_train, y_train)\n",
    "    y_pred = bg.predict(X_test)\n",
    "    acc_train_e.append(bg.score(X_train, y_train))\n",
    "    acc_test_e.append(accuracy_score(y_pred,y_test))  \n",
    "    n_estimators_.append(n_estimators)"
   ]
  },
  {
   "cell_type": "code",
   "execution_count": 25,
   "metadata": {
    "ExecuteTime": {
     "end_time": "2018-08-04T16:47:34.367780Z",
     "start_time": "2018-08-04T16:47:34.222304Z"
    }
   },
   "outputs": [
    {
     "data": {
      "text/plain": [
       "[<matplotlib.lines.Line2D at 0x7f74ed8d80b8>]"
      ]
     },
     "execution_count": 25,
     "metadata": {},
     "output_type": "execute_result"
    },
    {
     "data": {
      "image/png": "[encoded data removed]",
      "text/plain": [
       "<Figure size 432x288 with 1 Axes>"
      ]
     },
     "metadata": {},
     "output_type": "display_data"
    }
   ],
   "source": [
    "plt.plot(n_estimators_,acc_test_e,\"bo\")\n",
    "plt.plot(n_estimators_,acc_train_e,\"go\")"
   ]
  },
  {
   "cell_type": "code",
   "execution_count": 26,
   "metadata": {
    "ExecuteTime": {
     "end_time": "2018-08-04T20:40:45.539865Z",
     "start_time": "2018-08-04T20:40:45.529160Z"
    }
   },
   "outputs": [],
   "source": [
    "def grid_estimator(estimator, param_grid, X_train, y_train, X_test, y_test, cv=5):\n",
    "    grid = GridSearchCV(estimator=estimator, param_grid=param_grid, cv=cv, n_jobs=1)\n",
    "    grid.fit(X_train, y_train)\n",
    "    print(\"Accuracy training: \" + str(grid.best_score_))\n",
    "    y_pred = grid.predict(X_test)\n",
    "    print(\"Accuracy test: \" + str(accuracy_score(y_pred,y_test)))\n",
    "    print(grid.best_estimator_)"
   ]
  },
  {
   "cell_type": "markdown",
   "metadata": {},
   "source": [
    "### Selecting features determined to be important by Random Forest"
   ]
  },
  {
   "cell_type": "code",
   "execution_count": 22,
   "metadata": {
    "ExecuteTime": {
     "end_time": "2018-08-04T03:27:30.770949Z",
     "start_time": "2018-08-04T03:27:30.737685Z"
    }
   },
   "outputs": [],
   "source": [
    "col_in = [\"Elevation\",\"Horizontal_Distance_To_Roadways\",\"Horizontal_Distance_To_Fire_Points\", \"Soil_Type\",\n",
    "          \"Horizontal_Distance_To_Hydrology\",\"Vertical_Distance_To_Hydrology\"]\n",
    "X_in = X[col_in]\n",
    "X_train_in = X_train[col_in]\n",
    "X_test_in = X_test[col_in]"
   ]
  },
  {
   "cell_type": "code",
   "execution_count": null,
   "metadata": {
    "ExecuteTime": {
     "end_time": "2018-08-04T03:30:52.913356Z",
     "start_time": "2018-08-04T03:27:31.495605Z"
    }
   },
   "outputs": [],
   "source": [
    "param_grid = {'max_depth': [50,100,150], 'max_leaf_nodes':[100000,1000000,10000000]}\n",
    "grid_estimator(DecisionTreeClassifier(), param_grid, X_train_in, y_train, X_test_in, y_test)"
   ]
  },
  {
   "cell_type": "code",
   "execution_count": null,
   "metadata": {},
   "outputs": [],
   "source": []
  }
 ],
 "metadata": {
  "kernelspec": {
   "display_name": "Python 3",
   "language": "python",
   "name": "python3"
  },
  "language_info": {
   "codemirror_mode": {
    "name": "ipython",
    "version": 3
   },
   "file_extension": ".py",
   "mimetype": "text/x-python",
   "name": "python",
   "nbconvert_exporter": "python",
   "pygments_lexer": "ipython3",
   "version": "3.6.4"
  },
  "varInspector": {
   "cols": {
    "lenName": 16,
    "lenType": 16,
    "lenVar": 40
   },
   "kernels_config": {
    "python": {
     "delete_cmd_postfix": "",
     "delete_cmd_prefix": "del ",
     "library": "var_list.py",
     "varRefreshCmd": "print(var_dic_list())"
    },
    "r": {
     "delete_cmd_postfix": ") ",
     "delete_cmd_prefix": "rm(",
     "library": "var_list.r",
     "varRefreshCmd": "cat(var_dic_list()) "
    }
   },
   "types_to_exclude": [
    "module",
    "function",
    "builtin_function_or_method",
    "instance",
    "_Feature"
   ],
   "window_display": false
  }
 },
 "nbformat": 4,
 "nbformat_minor": 2
}
