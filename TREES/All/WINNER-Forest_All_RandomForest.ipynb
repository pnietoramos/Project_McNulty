{
 "cells": [
  {
   "cell_type": "code",
   "execution_count": 1,
   "metadata": {
    "ExecuteTime": {
     "end_time": "2018-08-07T17:44:34.573027Z",
     "start_time": "2018-08-07T17:44:33.730552Z"
    }
   },
   "outputs": [
    {
     "name": "stderr",
     "output_type": "stream",
     "text": [
      "/home/pnietoramos/anaconda3/lib/python3.6/site-packages/sklearn/cross_validation.py:41: DeprecationWarning: This module was deprecated in version 0.18 in favor of the model_selection module into which all the refactored classes and functions are moved. Also note that the interface of the new CV iterators are different from that of this module. This module will be removed in 0.20.\n",
      "  \"This module will be removed in 0.20.\", DeprecationWarning)\n"
     ]
    },
    {
     "data": {
      "text/html": [
       "<style>.container { width:95% !important; }</style>"
      ],
      "text/plain": [
       "<IPython.core.display.HTML object>"
      ]
     },
     "metadata": {},
     "output_type": "display_data"
    }
   ],
   "source": [
    "import pandas as pd\n",
    "import numpy as np\n",
    "import requests\n",
    "import pickle as pkl\n",
    "import matplotlib.pyplot as plt\n",
    "import seaborn as sns\n",
    "\n",
    "from sklearn.cross_validation import train_test_split\n",
    "from sklearn.neighbors import KNeighborsClassifier\n",
    "from sklearn.metrics import accuracy_score, recall_score, precision_score, f1_score\n",
    "from sklearn.linear_model import LogisticRegression\n",
    "from sklearn.naive_bayes import GaussianNB\n",
    "from sklearn.svm import SVC\n",
    "from sklearn.tree import DecisionTreeClassifier\n",
    "from sklearn.ensemble import RandomForestClassifier\n",
    "from sklearn.preprocessing import StandardScaler\n",
    "from sklearn.model_selection import GridSearchCV\n",
    "from sklearn.metrics import confusion_matrix\n",
    "\n",
    "from collections import Counter\n",
    "\n",
    "import warnings\n",
    "warnings.filterwarnings(\"ignore\", category=DeprecationWarning)\n",
    "\n",
    "%matplotlib inline\n",
    "\n",
    "from IPython.core.display import display, HTML\n",
    "display(HTML(\"<style>.container { width:95% !important; }</style>\"))\n",
    "plt.style.use(\"seaborn\")"
   ]
  },
  {
   "cell_type": "markdown",
   "metadata": {},
   "source": [
    "### Defining Features and Classifier"
   ]
  },
  {
   "cell_type": "code",
   "execution_count": 2,
   "metadata": {
    "ExecuteTime": {
     "end_time": "2018-08-07T17:44:35.253556Z",
     "start_time": "2018-08-07T17:44:34.574860Z"
    }
   },
   "outputs": [],
   "source": [
    "df_all = pd.read_csv(\"Trees_clean.csv\", index_col=False)"
   ]
  },
  {
   "cell_type": "code",
   "execution_count": 3,
   "metadata": {
    "ExecuteTime": {
     "end_time": "2018-08-07T17:44:35.269323Z",
     "start_time": "2018-08-07T17:44:35.255091Z"
    },
    "scrolled": true
   },
   "outputs": [
    {
     "data": {
      "text/html": [
       "<div>\n",
       "<style scoped>\n",
       "    .dataframe tbody tr th:only-of-type {\n",
       "        vertical-align: middle;\n",
       "    }\n",
       "\n",
       "    .dataframe tbody tr th {\n",
       "        vertical-align: top;\n",
       "    }\n",
       "\n",
       "    .dataframe thead th {\n",
       "        text-align: right;\n",
       "    }\n",
       "</style>\n",
       "<table border=\"1\" class=\"dataframe\">\n",
       "  <thead>\n",
       "    <tr style=\"text-align: right;\">\n",
       "      <th></th>\n",
       "      <th>Elevation</th>\n",
       "      <th>Aspect</th>\n",
       "      <th>Slope</th>\n",
       "      <th>Horizontal_Distance_To_Hydrology</th>\n",
       "      <th>Vertical_Distance_To_Hydrology</th>\n",
       "      <th>Horizontal_Distance_To_Roadways</th>\n",
       "      <th>Hillshade_9am</th>\n",
       "      <th>Hillshade_Noon</th>\n",
       "      <th>Hillshade_3pm</th>\n",
       "      <th>Horizontal_Distance_To_Fire_Points</th>\n",
       "      <th>Cover_Type</th>\n",
       "      <th>Soil_Type</th>\n",
       "    </tr>\n",
       "  </thead>\n",
       "  <tbody>\n",
       "    <tr>\n",
       "      <th>0</th>\n",
       "      <td>2596</td>\n",
       "      <td>51</td>\n",
       "      <td>3</td>\n",
       "      <td>258</td>\n",
       "      <td>0</td>\n",
       "      <td>510</td>\n",
       "      <td>221</td>\n",
       "      <td>232</td>\n",
       "      <td>148</td>\n",
       "      <td>6279</td>\n",
       "      <td>5</td>\n",
       "      <td>29</td>\n",
       "    </tr>\n",
       "  </tbody>\n",
       "</table>\n",
       "</div>"
      ],
      "text/plain": [
       "   Elevation  Aspect  Slope  Horizontal_Distance_To_Hydrology  \\\n",
       "0       2596      51      3                               258   \n",
       "\n",
       "   Vertical_Distance_To_Hydrology  Horizontal_Distance_To_Roadways  \\\n",
       "0                               0                              510   \n",
       "\n",
       "   Hillshade_9am  Hillshade_Noon  Hillshade_3pm  \\\n",
       "0            221             232            148   \n",
       "\n",
       "   Horizontal_Distance_To_Fire_Points  Cover_Type  Soil_Type  \n",
       "0                                6279           5         29  "
      ]
     },
     "execution_count": 3,
     "metadata": {},
     "output_type": "execute_result"
    }
   ],
   "source": [
    "df_all.head(1)"
   ]
  },
  {
   "cell_type": "code",
   "execution_count": 4,
   "metadata": {
    "ExecuteTime": {
     "end_time": "2018-08-07T17:44:35.371492Z",
     "start_time": "2018-08-07T17:44:35.270775Z"
    }
   },
   "outputs": [],
   "source": [
    "X = df_all.drop(\"Cover_Type\",axis=1)\n",
    "y = df_all[\"Cover_Type\"]"
   ]
  },
  {
   "cell_type": "code",
   "execution_count": 5,
   "metadata": {
    "ExecuteTime": {
     "end_time": "2018-08-07T17:44:35.637564Z",
     "start_time": "2018-08-07T17:44:35.373072Z"
    }
   },
   "outputs": [],
   "source": [
    "#Splitting the set (test = 0.3) in a stratified manner\n",
    "X_train, X_test, y_train, y_test = train_test_split(X, y, test_size=.30,stratify=y, random_state=4444)"
   ]
  },
  {
   "cell_type": "code",
   "execution_count": 6,
   "metadata": {
    "ExecuteTime": {
     "end_time": "2018-08-07T17:44:35.777232Z",
     "start_time": "2018-08-07T17:44:35.639190Z"
    }
   },
   "outputs": [],
   "source": [
    "#scaling the features\n",
    "sca = StandardScaler()\n",
    "sca.fit_transform(X_train)\n",
    "sca.transform(X_test);"
   ]
  },
  {
   "cell_type": "code",
   "execution_count": 7,
   "metadata": {
    "ExecuteTime": {
     "end_time": "2018-08-07T17:44:35.904658Z",
     "start_time": "2018-08-07T17:44:35.778590Z"
    }
   },
   "outputs": [
    {
     "data": {
      "text/plain": [
       "dict_keys(['bootstrap', 'class_weight', 'criterion', 'max_depth', 'max_features', 'max_leaf_nodes', 'min_impurity_decrease', 'min_impurity_split', 'min_samples_leaf', 'min_samples_split', 'min_weight_fraction_leaf', 'n_estimators', 'n_jobs', 'oob_score', 'random_state', 'verbose', 'warm_start'])"
      ]
     },
     "execution_count": 7,
     "metadata": {},
     "output_type": "execute_result"
    }
   ],
   "source": [
    "RandomForestClassifier().get_params().keys()"
   ]
  },
  {
   "cell_type": "markdown",
   "metadata": {},
   "source": [
    "### Now without the distance to fire points"
   ]
  },
  {
   "cell_type": "code",
   "execution_count": 8,
   "metadata": {
    "ExecuteTime": {
     "end_time": "2018-08-07T17:44:36.007428Z",
     "start_time": "2018-08-07T17:44:35.906445Z"
    }
   },
   "outputs": [],
   "source": [
    "col_in = [\"Elevation\",\"Horizontal_Distance_To_Roadways\",\"Horizontal_Distance_To_Fire_Points\", \"Soil_Type\",\n",
    "          \"Horizontal_Distance_To_Hydrology\",\"Vertical_Distance_To_Hydrology\"]\n",
    "X_in = X[col_in]\n",
    "X_train_in = X_train[col_in]\n",
    "X_test_in = X_test[col_in]"
   ]
  },
  {
   "cell_type": "code",
   "execution_count": 9,
   "metadata": {
    "ExecuteTime": {
     "end_time": "2018-08-07T17:48:06.469695Z",
     "start_time": "2018-08-07T17:44:36.009108Z"
    }
   },
   "outputs": [],
   "source": [
    "rf = RandomForestClassifier(max_leaf_nodes=1000000, max_depth=50, n_estimators=200)\n",
    "rf.fit(X_train_in, y_train)\n",
    "y_pred = rf.predict(X_test_in)"
   ]
  },
  {
   "cell_type": "code",
   "execution_count": 10,
   "metadata": {
    "ExecuteTime": {
     "end_time": "2018-08-07T17:48:07.366398Z",
     "start_time": "2018-08-07T17:48:06.471246Z"
    }
   },
   "outputs": [
    {
     "name": "stdout",
     "output_type": "stream",
     "text": [
      "Recall for cover:\n",
      "Type 1:96.10083081570997\n",
      "Type 2:97.487969314398\n",
      "Type 3:95.66473988439306\n",
      "Type 4:83.25242718446601\n",
      "Type 5:82.51404494382022\n",
      "Type 6:88.65642994241843\n",
      "Type 7:95.38436535023565\n"
     ]
    }
   ],
   "source": [
    "print(\"Recall for cover:\")\n",
    "for i in range(7):\n",
    "    print(\"Type \" + str(i+1)+ \":\" + str(100 * confusion_matrix(y_test, y_pred)[i,i]/len(y_test[y_test==(i+1)])))"
   ]
  },
  {
   "cell_type": "code",
   "execution_count": 11,
   "metadata": {
    "ExecuteTime": {
     "end_time": "2018-08-07T17:48:08.231968Z",
     "start_time": "2018-08-07T17:48:07.368417Z"
    }
   },
   "outputs": [
    {
     "name": "stdout",
     "output_type": "stream",
     "text": [
      "Precision for cover:\n",
      "Type 1:96.76315414230714\n",
      "Type 2:96.38341185366137\n",
      "Type 3:94.12034489084571\n",
      "Type 4:86.61616161616162\n",
      "Type 5:93.9624150339864\n",
      "Type 6:92.91892979279822\n",
      "Type 7:96.91215323645972\n"
     ]
    }
   ],
   "source": [
    "print(\"Precision for cover:\")\n",
    "for i in range(7):\n",
    "    print(\"Type \" + str(i+1)+ \":\" + str(100 * confusion_matrix(y_test, y_pred)[i,i]/len(y_pred[y_pred==(i+1)])))"
   ]
  },
  {
   "cell_type": "markdown",
   "metadata": {},
   "source": [
    "### Training with the whole set"
   ]
  },
  {
   "cell_type": "code",
   "execution_count": 12,
   "metadata": {
    "ExecuteTime": {
     "end_time": "2018-08-07T17:52:25.362557Z",
     "start_time": "2018-08-07T17:48:08.233761Z"
    }
   },
   "outputs": [],
   "source": [
    "rf = RandomForestClassifier(max_leaf_nodes=1000000, max_depth=50, n_estimators=200)\n",
    "rf.fit(X_in, y)\n",
    "y_pred = rf.predict(X_in)"
   ]
  },
  {
   "cell_type": "code",
   "execution_count": 13,
   "metadata": {
    "ExecuteTime": {
     "end_time": "2018-08-07T17:52:27.961871Z",
     "start_time": "2018-08-07T17:52:25.364464Z"
    }
   },
   "outputs": [
    {
     "name": "stdout",
     "output_type": "stream",
     "text": [
      "Recall for cover:\n",
      "Type 1:100.0\n",
      "Type 2:100.0\n",
      "Type 3:100.0\n",
      "Type 4:100.0\n",
      "Type 5:100.0\n",
      "Type 6:100.0\n",
      "Type 7:100.0\n"
     ]
    }
   ],
   "source": [
    "print(\"Recall for cover:\")\n",
    "for i in range(7):\n",
    "    print(\"Type \" + str(i+1)+ \":\" + str(100 * confusion_matrix(y, y_pred)[i,i]/len(y[y==(i+1)])))"
   ]
  },
  {
   "cell_type": "code",
   "execution_count": 14,
   "metadata": {
    "ExecuteTime": {
     "end_time": "2018-08-07T17:52:30.405809Z",
     "start_time": "2018-08-07T17:52:27.963747Z"
    }
   },
   "outputs": [
    {
     "name": "stdout",
     "output_type": "stream",
     "text": [
      "Precision for cover:\n",
      "Type 1:100.0\n",
      "Type 2:100.0\n",
      "Type 3:100.0\n",
      "Type 4:100.0\n",
      "Type 5:100.0\n",
      "Type 6:100.0\n",
      "Type 7:100.0\n"
     ]
    }
   ],
   "source": [
    "print(\"Precision for cover:\")\n",
    "for i in range(7):\n",
    "    print(\"Type \" + str(i+1)+ \":\" + str(100 * confusion_matrix(y, y_pred)[i,i]/len(y_pred[y_pred==(i+1)])))"
   ]
  },
  {
   "cell_type": "markdown",
   "metadata": {},
   "source": [
    "### Predictions and visualizations"
   ]
  },
  {
   "cell_type": "markdown",
   "metadata": {},
   "source": [
    "[\"Elevation\",\"Horizontal_Distance_To_Roadways\",\"Horizontal_Distance_To_Fire_Points\",\n",
    "\"Soil_Type\",\"Horizontal_Distance_To_Hydrology\",\"Vertical_Distance_To_Hydrology\"]"
   ]
  },
  {
   "cell_type": "code",
   "execution_count": 69,
   "metadata": {
    "ExecuteTime": {
     "end_time": "2018-08-07T22:56:45.466771Z",
     "start_time": "2018-08-07T22:56:44.890159Z"
    }
   },
   "outputs": [],
   "source": [
    "sca_all = StandardScaler()\n",
    "sca_all.fit_transform(X_in);"
   ]
  },
  {
   "cell_type": "markdown",
   "metadata": {},
   "source": [
    "Predicting the coverage with an example predicted to be of high risk with our fire risk model."
   ]
  },
  {
   "cell_type": "code",
   "execution_count": 70,
   "metadata": {
    "ExecuteTime": {
     "end_time": "2018-08-07T22:56:45.955469Z",
     "start_time": "2018-08-07T22:56:45.908897Z"
    }
   },
   "outputs": [
    {
     "name": "stderr",
     "output_type": "stream",
     "text": [
      "/home/pnietoramos/anaconda3/lib/python3.6/site-packages/sklearn/utils/validation.py:475: DataConversionWarning: Data with input dtype int64 was converted to float64 by StandardScaler.\n",
      "  warnings.warn(msg, DataConversionWarning)\n"
     ]
    },
    {
     "data": {
      "text/plain": [
       "array([2])"
      ]
     },
     "execution_count": 70,
     "metadata": {},
     "output_type": "execute_result"
    }
   ],
   "source": [
    "example = np.array([2500, 1500, 0, 11, 200, 50])\n",
    "sca_all.transform(example.reshape(1,-1))\n",
    "rf.predict(example.reshape(1,-1))"
   ]
  },
  {
   "cell_type": "markdown",
   "metadata": {},
   "source": [
    "It will naturally grow Lodgepole Pine"
   ]
  },
  {
   "cell_type": "code",
   "execution_count": 71,
   "metadata": {
    "ExecuteTime": {
     "end_time": "2018-08-07T22:56:48.434626Z",
     "start_time": "2018-08-07T22:56:48.411609Z"
    }
   },
   "outputs": [
    {
     "name": "stderr",
     "output_type": "stream",
     "text": [
      "/home/pnietoramos/anaconda3/lib/python3.6/site-packages/sklearn/utils/validation.py:475: DataConversionWarning: Data with input dtype int64 was converted to float64 by StandardScaler.\n",
      "  warnings.warn(msg, DataConversionWarning)\n"
     ]
    },
    {
     "data": {
      "text/plain": [
       "array([3])"
      ]
     },
     "execution_count": 71,
     "metadata": {},
     "output_type": "execute_result"
    }
   ],
   "source": [
    "example = np.array([2500, 750,0, 11, 800, 50])\n",
    "sca_all.transform(example.reshape(1,-1))\n",
    "rf.predict(example.reshape(1,-1))"
   ]
  },
  {
   "cell_type": "markdown",
   "metadata": {
    "ExecuteTime": {
     "end_time": "2018-08-07T21:00:30.561758Z",
     "start_time": "2018-08-07T21:00:30.558697Z"
    }
   },
   "source": [
    "It will naturally grow Ponderosa Pine"
   ]
  },
  {
   "cell_type": "markdown",
   "metadata": {},
   "source": []
  },
  {
   "cell_type": "code",
   "execution_count": null,
   "metadata": {},
   "outputs": [],
   "source": []
  }
 ],
 "metadata": {
  "kernelspec": {
   "display_name": "Python 3",
   "language": "python",
   "name": "python3"
  },
  "language_info": {
   "codemirror_mode": {
    "name": "ipython",
    "version": 3
   },
   "file_extension": ".py",
   "mimetype": "text/x-python",
   "name": "python",
   "nbconvert_exporter": "python",
   "pygments_lexer": "ipython3",
   "version": "3.6.4"
  },
  "varInspector": {
   "cols": {
    "lenName": 16,
    "lenType": 16,
    "lenVar": 40
   },
   "kernels_config": {
    "python": {
     "delete_cmd_postfix": "",
     "delete_cmd_prefix": "del ",
     "library": "var_list.py",
     "varRefreshCmd": "print(var_dic_list())"
    },
    "r": {
     "delete_cmd_postfix": ") ",
     "delete_cmd_prefix": "rm(",
     "library": "var_list.r",
     "varRefreshCmd": "cat(var_dic_list()) "
    }
   },
   "types_to_exclude": [
    "module",
    "function",
    "builtin_function_or_method",
    "instance",
    "_Feature"
   ],
   "window_display": false
  }
 },
 "nbformat": 4,
 "nbformat_minor": 2
}
